{
 "cells": [
  {
   "cell_type": "code",
   "execution_count": 28,
   "id": "7b6c9f83-580b-424e-98be-dc205b4d979d",
   "metadata": {},
   "outputs": [],
   "source": [
    "import matplotlib.pyplot as plt\n",
    "import numpy as np\n",
    "import pandas as pd\n",
    "import scipy\n",
    "from tqdm import tqdm\n",
    "\n",
    "from pathlib import Path, PurePath\n",
    "\n",
    "%matplotlib inline"
   ]
  },
  {
   "cell_type": "markdown",
   "id": "3390e8a4-6cad-4273-82d6-eaf2242211e9",
   "metadata": {},
   "source": [
    "## Helper function and constants"
   ]
  },
  {
   "cell_type": "code",
   "execution_count": 2,
   "id": "13632249-97e8-4bee-aabb-3bb88713ed66",
   "metadata": {},
   "outputs": [],
   "source": [
    "LEADS = [\"I\", \"II\", \"III\", \"aVR\", \"aVL\", \"aVF\", \"V1\", \"V2\", \"V3\", \"V4\", \"V5\", \"V6\"]\n",
    "DIAGS = [\n",
    "    \"1st degree AV block (1dAVb)\",\n",
    "    \"right bundle branch block (RBBB)\",\n",
    "    \"left bundle branch block (LBBB)\",\n",
    "    \"sinus bradycardia (SB)\",\n",
    "    \"atrial fibrillation (AF)\",\n",
    "    \"sinus tachycardia (ST)\",\n",
    "]"
   ]
  },
  {
   "cell_type": "markdown",
   "id": "2b1109f9-5b5e-4c92-9410-f5ddbb0da2e1",
   "metadata": {},
   "source": [
    "## Extract data"
   ]
  },
  {
   "cell_type": "code",
   "execution_count": 3,
   "id": "53ae42f0-3137-44fd-acd3-a411df07413e",
   "metadata": {},
   "outputs": [],
   "source": [
    "import xml.etree.ElementTree as ET\n",
    "\n",
    "\n",
    "def get_features(filename: str) -> str:\n",
    "    feature_name = {\n",
    "        'vent_rate': 'VentricularRate',\n",
    "        'atri_rate': 'AtrialRate',\n",
    "        # 'pr_intv': 'PRInterval',\n",
    "        'qrs_dur': 'QRSDuration',\n",
    "        'qt_intv':  'QTInterval',\n",
    "        'qt_corr': 'QTCorrected',\n",
    "        # 'p_axis':  'PAxis',\n",
    "        # 'r_axis': 'RAxis',\n",
    "        # 't_axis': 'TAxis',\n",
    "        # 'qrs_count': 'QRSCount',\n",
    "        # 'q_onset': 'QOnset',\n",
    "        # 'q_offset': 'QOffset',\n",
    "        # 'p_onset': 'POnset',\n",
    "        # 'p_offset': 'POffset',\n",
    "        # 't_offset': 'TOffset',\n",
    "        # 'ecg_base': 'ECGSampleBase',\n",
    "        # 'ecg_exp': 'ECGSampleExponent',\n",
    "        # 'qtc_fred': 'QTcFrederica'\n",
    "    }\n",
    "        \n",
    "    root = ET.parse(filename).getroot()\n",
    "    \n",
    "    diagnosis = ' '.join(stm.text.strip() for stm in root.findall('.//DiagnosisStatement/StmtText'))\n",
    "    \n",
    "    age = int(root.find('.//PatientAge').text)\n",
    "    gender = root.find('.//Gender').text == 'MALE'\n",
    "    \n",
    "    # print(filename)\n",
    "    # for k, v in feature_name.items():\n",
    "    #     print(k, root.find('.//' + v).text)\n",
    "    others = {k: int(root.find('.//' + v).text) for k, v in feature_name.items()}\n",
    "\n",
    "    return {\n",
    "        'diagnosis': diagnosis,\n",
    "        'gender': gender,\n",
    "        'age': age,\n",
    "        **others\n",
    "    }\n",
    "\n"
   ]
  },
  {
   "cell_type": "code",
   "execution_count": 22,
   "id": "f7d84cf6-fa4f-4e71-9c3a-5fb684525be4",
   "metadata": {},
   "outputs": [],
   "source": [
    "with open('data/valid.txt') as file:\n",
    "    file_list = [f.strip() for f in file.readlines()]"
   ]
  },
  {
   "cell_type": "code",
   "execution_count": 23,
   "id": "be5c97ad-2570-432d-9d6f-bfa8b6909500",
   "metadata": {},
   "outputs": [
    {
     "data": {
      "text/plain": [
       "2286"
      ]
     },
     "execution_count": 23,
     "metadata": {},
     "output_type": "execute_result"
    }
   ],
   "source": [
    "len(file_list)"
   ]
  },
  {
   "cell_type": "code",
   "execution_count": 30,
   "id": "65a858c9-da5f-4eab-adc9-407e78cb8407",
   "metadata": {},
   "outputs": [
    {
     "name": "stderr",
     "output_type": "stream",
     "text": [
      "100%|██████████████████████████████████████| 2286/2286 [00:13<00:00, 167.28it/s]\n"
     ]
    }
   ],
   "source": [
    "diagnosis = []\n",
    "features = ['gender', 'age', 'vent_rate', 'atri_rate', 'qt_intv']\n",
    "# features = []\n",
    "features_data = {feat: [] for feat in features}\n",
    "features_data['ecg'] = []\n",
    "\n",
    "for file in tqdm(file_list):\n",
    "    data = pd.read_csv(PurePath.joinpath(Path('data/csv'), file.split('/')[-1]).with_suffix('.csv')).drop(columns=[\"Unnamed: 12\", \"Unnamed: 13\", \"V4R\"], errors='ignore')\n",
    "    feats = get_features('data/' + file)\n",
    "    \n",
    "    features_data['ecg'].append(data)\n",
    "    diagnosis.append(feats['diagnosis'])\n",
    "    # print(file, '\\n', diagnosis, '\\n', '--------------------------', '\\n')\n",
    "    \n",
    "    for f in features:\n",
    "        features_data[f].append([feats[f]])\n",
    "        \n",
    "for f in features:\n",
    "    features_data[f] = np.array(features_data[f])"
   ]
  },
  {
   "cell_type": "markdown",
   "id": "f6047248-8979-4ad7-9765-72b9ed603267",
   "metadata": {
    "tags": []
   },
   "source": [
    "## Load Model"
   ]
  },
  {
   "cell_type": "code",
   "execution_count": 31,
   "id": "f78a7862-19a5-48b8-8f8e-05470c50944d",
   "metadata": {},
   "outputs": [],
   "source": [
    "import tensorflow as tf\n",
    "from keras.models import load_model\n",
    "from keras.optimizers import Adam\n",
    "\n",
    "model = load_model(\"model/model.hdf5\", compile=False)\n",
    "model.compile(loss=\"binary_crossentropy\", optimizer=Adam())"
   ]
  },
  {
   "cell_type": "markdown",
   "id": "e672bb37-1ec0-4ee3-8835-11fb27a50be1",
   "metadata": {},
   "source": [
    "## Reformat data for model"
   ]
  },
  {
   "cell_type": "code",
   "execution_count": 13,
   "id": "752d9e16-aaab-451a-869c-2e5c01f4755e",
   "metadata": {},
   "outputs": [],
   "source": [
    "def resample(ecg, freq):\n",
    "    X = scipy.signal.resample(ecg, freq * 10, axis=-2)\n",
    "    if len(X.shape) == 2:\n",
    "        X = X[None, ...]\n",
    "        \n",
    "    length = X.shape[-2]\n",
    "    if length < 4096:\n",
    "        pad_left = (4096 - length) // 2\n",
    "        pad_right = pad_left + (length % 2)\n",
    "        X = np.pad(X, ((0, 0), (pad_left, pad_right), (0, 0)), \"constant\")\n",
    "    else:\n",
    "        X = X[:, :4096, :]\n",
    "\n",
    "    X = X / 500\n",
    "    print(X.shape)\n",
    "    return X"
   ]
  },
  {
   "cell_type": "code",
   "execution_count": 15,
   "id": "fee2aa9d-a1fe-4c6d-84f2-d7b3d021fa45",
   "metadata": {},
   "outputs": [
    {
     "data": {
      "text/plain": [
       "{'gender': array([], dtype=float64),\n",
       " 'age': array([], dtype=float64),\n",
       " 'vent_rate': array([], dtype=float64),\n",
       " 'atri_rate': array([], dtype=float64),\n",
       " 'qt_intv': array([], dtype=float64),\n",
       " 'ecg': []}"
      ]
     },
     "execution_count": 15,
     "metadata": {},
     "output_type": "execute_result"
    }
   ],
   "source": [
    "features_data"
   ]
  },
  {
   "cell_type": "code",
   "execution_count": 33,
   "id": "d4aa1522-5074-4936-a38b-30a1b242b872",
   "metadata": {},
   "outputs": [
    {
     "name": "stdout",
     "output_type": "stream",
     "text": [
      "(2286, 4096, 12)\n"
     ]
    }
   ],
   "source": [
    "ecg = resample(features_data['ecg'], 400)"
   ]
  },
  {
   "cell_type": "code",
   "execution_count": 119,
   "id": "119ad98e-3f98-44bc-a0d9-6eddf6f3a8a8",
   "metadata": {},
   "outputs": [
    {
     "name": "stdout",
     "output_type": "stream",
     "text": [
      "72/72 [==============================] - 89s 1s/step\n"
     ]
    }
   ],
   "source": [
    "Y_ecg = model.predict(ecg)"
   ]
  },
  {
   "cell_type": "markdown",
   "id": "103f8390-ced8-4f97-a770-8d84793e47c2",
   "metadata": {},
   "source": [
    "## Extract ground-truth labels"
   ]
  },
  {
   "cell_type": "code",
   "execution_count": 35,
   "id": "d95ee5fe-a4e8-44de-87ea-a0c1a7a493b6",
   "metadata": {},
   "outputs": [],
   "source": [
    "filters = [\n",
    "    {'bloc A-V du premier'},\n",
    "    {'Bloc de branche droit complet', 'BBD'},\n",
    "    {'Bloc de branche gauche complet', 'BBG'},\n",
    "    {'Bradycardie sinusale'},\n",
    "    {'Fibrillation auriculaire'},\n",
    "    {'Tachycardie sinusale'},\n",
    "]\n",
    "    "
   ]
  },
  {
   "cell_type": "code",
   "execution_count": 36,
   "id": "5f05afc0-194c-4a2c-a383-b4575d4416b3",
   "metadata": {},
   "outputs": [],
   "source": [
    "def ground_truth(diagnosis):\n",
    "    Y_ground = []\n",
    "    for diag in diagnosis:\n",
    "        y = []\n",
    "        for group in filters:\n",
    "            for f in group:\n",
    "                if f.lower() in diag.lower():\n",
    "                    y.append(True)\n",
    "                    break\n",
    "            else:\n",
    "                y.append(False)\n",
    "        Y_ground.append(y)\n",
    "    return np.array(Y_ground)"
   ]
  },
  {
   "cell_type": "code",
   "execution_count": 120,
   "id": "ba4c2b0b-56b5-42e8-80ed-f970c19cdeb5",
   "metadata": {},
   "outputs": [],
   "source": [
    "Y_ground = ground_truth(diagnosis)"
   ]
  },
  {
   "cell_type": "code",
   "execution_count": 127,
   "id": "9714c1d7-6254-4dd2-893b-213280ba105d",
   "metadata": {},
   "outputs": [
    {
     "data": {
      "text/plain": [
       "array([[False, False, False, False, False, False],\n",
       "       [False, False, False, False, False, False],\n",
       "       [False, False, False, False, False, False],\n",
       "       ...,\n",
       "       [False, False, False, False, False, False],\n",
       "       [False, False, False, False, False, False],\n",
       "       [False, False, False, False, False, False]])"
      ]
     },
     "execution_count": 127,
     "metadata": {},
     "output_type": "execute_result"
    }
   ],
   "source": [
    "Y_ground"
   ]
  },
  {
   "cell_type": "code",
   "execution_count": null,
   "id": "5bc43a59-50ee-4109-a23a-0e73763d2481",
   "metadata": {},
   "outputs": [],
   "source": []
  },
  {
   "cell_type": "code",
   "execution_count": 61,
   "id": "4ebf5be3-e150-4ec5-b149-a43675848950",
   "metadata": {},
   "outputs": [
    {
     "name": "stdout",
     "output_type": "stream",
     "text": [
      "1st degree AV block (1dAVb) \t 0.7737704918032787 \t 0.9752066115702479 \t 0.6413043478260869\n",
      "right bundle branch block (RBBB) \t 0.8410256410256411 \t 0.9213483146067416 \t 0.7735849056603774\n",
      "left bundle branch block (LBBB) \t 0.8398791540785498 \t 0.7554347826086957 \t 0.9455782312925171\n",
      "sinus bradycardia (SB) \t 0.24271844660194178 \t 1.0 \t 0.13812154696132597\n",
      "atrial fibrillation (AF) \t 0.7199999999999999 \t 0.75 \t 0.6923076923076923\n",
      "sinus tachycardia (ST) \t 0.8402366863905326 \t 0.8452380952380952 \t 0.8352941176470589\n"
     ]
    }
   ],
   "source": [
    "for i in range(6):\n",
    "    print(DIAGS[i], '\\t', f1_score(Y_ground[:, i], Y_ecg[:, i] > 0.5), '\\t', precision_score(Y_ground[:, i], Y_ecg[:, i] > 0.5), '\\t', recall_score(Y_ground[:, i], Y_ecg[:, i] > 0.5))"
   ]
  },
  {
   "cell_type": "code",
   "execution_count": 114,
   "id": "d4df251a-a450-473c-9e93-414ed21134cf",
   "metadata": {},
   "outputs": [
    {
     "data": {
      "text/plain": [
       "362"
      ]
     },
     "execution_count": 114,
     "metadata": {},
     "output_type": "execute_result"
    }
   ],
   "source": [
    "Y_ground[:, 3].sum()"
   ]
  },
  {
   "cell_type": "markdown",
   "id": "a6f03605-4671-43ec-a6b9-bc224dec6de2",
   "metadata": {},
   "source": [
    "## Introducing: Decision Tree"
   ]
  },
  {
   "cell_type": "code",
   "execution_count": 66,
   "id": "22bebe39-efae-4ac1-8030-0a622c844e0b",
   "metadata": {},
   "outputs": [],
   "source": [
    "from sklearn.tree import DecisionTreeClassifier, plot_tree\n",
    "from sklearn import tree\n",
    "import graphviz\n",
    "from sklearn.model_selection import train_test_split"
   ]
  },
  {
   "cell_type": "code",
   "execution_count": 111,
   "id": "c662558c-9911-48aa-813a-baad1ac31e37",
   "metadata": {},
   "outputs": [],
   "source": [
    "X = np.concatenate((Y_ecg, *[features_data[f] for f in features]), axis=1)"
   ]
  },
  {
   "cell_type": "code",
   "execution_count": 125,
   "id": "b129dbc9-6be1-471d-a32e-4cfe02a57e47",
   "metadata": {},
   "outputs": [],
   "source": [
    "X_train, X_test, y_train, y_test = train_test_split(X, Y_ground[:, 3])"
   ]
  },
  {
   "cell_type": "code",
   "execution_count": 130,
   "id": "b1287bf6-3c88-4634-a1c7-919e002e78c5",
   "metadata": {},
   "outputs": [
    {
     "data": {
      "text/html": [
       "<style>#sk-container-id-10 {color: black;background-color: white;}#sk-container-id-10 pre{padding: 0;}#sk-container-id-10 div.sk-toggleable {background-color: white;}#sk-container-id-10 label.sk-toggleable__label {cursor: pointer;display: block;width: 100%;margin-bottom: 0;padding: 0.3em;box-sizing: border-box;text-align: center;}#sk-container-id-10 label.sk-toggleable__label-arrow:before {content: \"▸\";float: left;margin-right: 0.25em;color: #696969;}#sk-container-id-10 label.sk-toggleable__label-arrow:hover:before {color: black;}#sk-container-id-10 div.sk-estimator:hover label.sk-toggleable__label-arrow:before {color: black;}#sk-container-id-10 div.sk-toggleable__content {max-height: 0;max-width: 0;overflow: hidden;text-align: left;background-color: #f0f8ff;}#sk-container-id-10 div.sk-toggleable__content pre {margin: 0.2em;color: black;border-radius: 0.25em;background-color: #f0f8ff;}#sk-container-id-10 input.sk-toggleable__control:checked~div.sk-toggleable__content {max-height: 200px;max-width: 100%;overflow: auto;}#sk-container-id-10 input.sk-toggleable__control:checked~label.sk-toggleable__label-arrow:before {content: \"▾\";}#sk-container-id-10 div.sk-estimator input.sk-toggleable__control:checked~label.sk-toggleable__label {background-color: #d4ebff;}#sk-container-id-10 div.sk-label input.sk-toggleable__control:checked~label.sk-toggleable__label {background-color: #d4ebff;}#sk-container-id-10 input.sk-hidden--visually {border: 0;clip: rect(1px 1px 1px 1px);clip: rect(1px, 1px, 1px, 1px);height: 1px;margin: -1px;overflow: hidden;padding: 0;position: absolute;width: 1px;}#sk-container-id-10 div.sk-estimator {font-family: monospace;background-color: #f0f8ff;border: 1px dotted black;border-radius: 0.25em;box-sizing: border-box;margin-bottom: 0.5em;}#sk-container-id-10 div.sk-estimator:hover {background-color: #d4ebff;}#sk-container-id-10 div.sk-parallel-item::after {content: \"\";width: 100%;border-bottom: 1px solid gray;flex-grow: 1;}#sk-container-id-10 div.sk-label:hover label.sk-toggleable__label {background-color: #d4ebff;}#sk-container-id-10 div.sk-serial::before {content: \"\";position: absolute;border-left: 1px solid gray;box-sizing: border-box;top: 0;bottom: 0;left: 50%;z-index: 0;}#sk-container-id-10 div.sk-serial {display: flex;flex-direction: column;align-items: center;background-color: white;padding-right: 0.2em;padding-left: 0.2em;position: relative;}#sk-container-id-10 div.sk-item {position: relative;z-index: 1;}#sk-container-id-10 div.sk-parallel {display: flex;align-items: stretch;justify-content: center;background-color: white;position: relative;}#sk-container-id-10 div.sk-item::before, #sk-container-id-10 div.sk-parallel-item::before {content: \"\";position: absolute;border-left: 1px solid gray;box-sizing: border-box;top: 0;bottom: 0;left: 50%;z-index: -1;}#sk-container-id-10 div.sk-parallel-item {display: flex;flex-direction: column;z-index: 1;position: relative;background-color: white;}#sk-container-id-10 div.sk-parallel-item:first-child::after {align-self: flex-end;width: 50%;}#sk-container-id-10 div.sk-parallel-item:last-child::after {align-self: flex-start;width: 50%;}#sk-container-id-10 div.sk-parallel-item:only-child::after {width: 0;}#sk-container-id-10 div.sk-dashed-wrapped {border: 1px dashed gray;margin: 0 0.4em 0.5em 0.4em;box-sizing: border-box;padding-bottom: 0.4em;background-color: white;}#sk-container-id-10 div.sk-label label {font-family: monospace;font-weight: bold;display: inline-block;line-height: 1.2em;}#sk-container-id-10 div.sk-label-container {text-align: center;}#sk-container-id-10 div.sk-container {/* jupyter's `normalize.less` sets `[hidden] { display: none; }` but bootstrap.min.css set `[hidden] { display: none !important; }` so we also need the `!important` here to be able to override the default hidden behavior on the sphinx rendered scikit-learn.org. See: https://github.com/scikit-learn/scikit-learn/issues/21755 */display: inline-block !important;position: relative;}#sk-container-id-10 div.sk-text-repr-fallback {display: none;}</style><div id=\"sk-container-id-10\" class=\"sk-top-container\"><div class=\"sk-text-repr-fallback\"><pre>DecisionTreeClassifier(max_depth=3)</pre><b>In a Jupyter environment, please rerun this cell to show the HTML representation or trust the notebook. <br />On GitHub, the HTML representation is unable to render, please try loading this page with nbviewer.org.</b></div><div class=\"sk-container\" hidden><div class=\"sk-item\"><div class=\"sk-estimator sk-toggleable\"><input class=\"sk-toggleable__control sk-hidden--visually\" id=\"sk-estimator-id-10\" type=\"checkbox\" checked><label for=\"sk-estimator-id-10\" class=\"sk-toggleable__label sk-toggleable__label-arrow\">DecisionTreeClassifier</label><div class=\"sk-toggleable__content\"><pre>DecisionTreeClassifier(max_depth=3)</pre></div></div></div></div></div>"
      ],
      "text/plain": [
       "DecisionTreeClassifier(max_depth=3)"
      ]
     },
     "execution_count": 130,
     "metadata": {},
     "output_type": "execute_result"
    }
   ],
   "source": [
    "dtree = DecisionTreeClassifier(max_depth=3)\n",
    "dtree.fit(X_train, y_train)"
   ]
  },
  {
   "cell_type": "code",
   "execution_count": 178,
   "id": "250ceda3-ea3d-42aa-96a8-fddc30c2d377",
   "metadata": {},
   "outputs": [
    {
     "name": "stdout",
     "output_type": "stream",
     "text": [
      "1st degree AV block (1dAVb) \t 0.8333333333333334 \t 0.8064516129032258 \t 0.8620689655172413\n",
      "right bundle branch block (RBBB) \t 0.8571428571428572 \t 0.7894736842105263 \t 0.9375\n",
      "left bundle branch block (LBBB) \t 0.8529411764705882 \t 0.8529411764705882 \t 0.8529411764705882\n",
      "sinus bradycardia (SB) \t 0.9923664122137404 \t 0.9848484848484849 \t 1.0\n",
      "atrial fibrillation (AF) \t 0.6 \t 0.5 \t 0.75\n",
      "sinus tachycardia (ST) \t 0.9090909090909091 \t 0.8823529411764706 \t 0.9375\n"
     ]
    }
   ],
   "source": [
    "dtree = evaluate_dtree(X, Y_ground)[3]"
   ]
  },
  {
   "cell_type": "code",
   "execution_count": 183,
   "id": "bbfe1e49-4b1f-4ecf-a350-f85a6476643a",
   "metadata": {},
   "outputs": [
    {
     "data": {
      "image/svg+xml": [
       "<?xml version=\"1.0\" encoding=\"UTF-8\" standalone=\"no\"?>\n",
       "<!DOCTYPE svg PUBLIC \"-//W3C//DTD SVG 1.1//EN\"\n",
       " \"http://www.w3.org/Graphics/SVG/1.1/DTD/svg11.dtd\">\n",
       "<!-- Generated by graphviz version 2.50.0 (0)\n",
       " -->\n",
       "<!-- Title: Tree Pages: 1 -->\n",
       "<svg width=\"1299pt\" height=\"433pt\"\n",
       " viewBox=\"0.00 0.00 1298.50 433.00\" xmlns=\"http://www.w3.org/2000/svg\" xmlns:xlink=\"http://www.w3.org/1999/xlink\">\n",
       "<g id=\"graph0\" class=\"graph\" transform=\"scale(1 1) rotate(0) translate(4 429)\">\n",
       "<title>Tree</title>\n",
       "<polygon fill=\"white\" stroke=\"transparent\" points=\"-4,4 -4,-429 1294.5,-429 1294.5,4 -4,4\"/>\n",
       "<!-- 0 -->\n",
       "<g id=\"node1\" class=\"node\">\n",
       "<title>0</title>\n",
       "<path fill=\"#ea995f\" stroke=\"black\" d=\"M766,-425C766,-425 599,-425 599,-425 593,-425 587,-419 587,-413 587,-413 587,-354 587,-354 587,-348 593,-342 599,-342 599,-342 766,-342 766,-342 772,-342 778,-348 778,-354 778,-354 778,-413 778,-413 778,-419 772,-425 766,-425\"/>\n",
       "<text text-anchor=\"middle\" x=\"682.5\" y=\"-409.8\" font-family=\"Helvetica,sans-Serif\" font-size=\"14.00\">ventricular_rate &lt;= 59.5</text>\n",
       "<text text-anchor=\"middle\" x=\"682.5\" y=\"-394.8\" font-family=\"Helvetica,sans-Serif\" font-size=\"14.00\">gini = 0.2714114</text>\n",
       "<text text-anchor=\"middle\" x=\"682.5\" y=\"-379.8\" font-family=\"Helvetica,sans-Serif\" font-size=\"14.00\">samples = 1828</text>\n",
       "<text text-anchor=\"middle\" x=\"682.5\" y=\"-364.8\" font-family=\"Helvetica,sans-Serif\" font-size=\"14.00\">value = [1532, 296]</text>\n",
       "<text text-anchor=\"middle\" x=\"682.5\" y=\"-349.8\" font-family=\"Helvetica,sans-Serif\" font-size=\"14.00\">class = negative</text>\n",
       "</g>\n",
       "<!-- 1 -->\n",
       "<g id=\"node2\" class=\"node\">\n",
       "<title>1</title>\n",
       "<path fill=\"#40a1e6\" stroke=\"black\" d=\"M657,-306C657,-306 406,-306 406,-306 400,-306 394,-300 394,-294 394,-294 394,-235 394,-235 394,-229 400,-223 406,-223 406,-223 657,-223 657,-223 663,-223 669,-229 669,-235 669,-235 669,-294 669,-294 669,-300 663,-306 657,-306\"/>\n",
       "<text text-anchor=\"middle\" x=\"531.5\" y=\"-290.8\" font-family=\"Helvetica,sans-Serif\" font-size=\"14.00\">sinus tachycardia (ST) &lt;= 9.485e&#45;05</text>\n",
       "<text text-anchor=\"middle\" x=\"531.5\" y=\"-275.8\" font-family=\"Helvetica,sans-Serif\" font-size=\"14.00\">gini = 0.06974983</text>\n",
       "<text text-anchor=\"middle\" x=\"531.5\" y=\"-260.8\" font-family=\"Helvetica,sans-Serif\" font-size=\"14.00\">samples = 304</text>\n",
       "<text text-anchor=\"middle\" x=\"531.5\" y=\"-245.8\" font-family=\"Helvetica,sans-Serif\" font-size=\"14.00\">value = [11, 293]</text>\n",
       "<text text-anchor=\"middle\" x=\"531.5\" y=\"-230.8\" font-family=\"Helvetica,sans-Serif\" font-size=\"14.00\">class = positive</text>\n",
       "</g>\n",
       "<!-- 0&#45;&gt;1 -->\n",
       "<g id=\"edge1\" class=\"edge\">\n",
       "<title>0&#45;&gt;1</title>\n",
       "<path fill=\"none\" stroke=\"black\" d=\"M630.11,-341.91C617.81,-332.38 604.61,-322.15 591.99,-312.37\"/>\n",
       "<polygon fill=\"black\" stroke=\"black\" points=\"593.84,-309.38 583.8,-306.02 589.56,-314.91 593.84,-309.38\"/>\n",
       "<text text-anchor=\"middle\" x=\"586.94\" y=\"-327.12\" font-family=\"Helvetica,sans-Serif\" font-size=\"14.00\">True</text>\n",
       "</g>\n",
       "<!-- 8 -->\n",
       "<g id=\"node9\" class=\"node\">\n",
       "<title>8</title>\n",
       "<path fill=\"#e58139\" stroke=\"black\" d=\"M897,-306C897,-306 770,-306 770,-306 764,-306 758,-300 758,-294 758,-294 758,-235 758,-235 758,-229 764,-223 770,-223 770,-223 897,-223 897,-223 903,-223 909,-229 909,-235 909,-235 909,-294 909,-294 909,-300 903,-306 897,-306\"/>\n",
       "<text text-anchor=\"middle\" x=\"833.5\" y=\"-290.8\" font-family=\"Helvetica,sans-Serif\" font-size=\"14.00\">atrial_rate &lt;= 56.0</text>\n",
       "<text text-anchor=\"middle\" x=\"833.5\" y=\"-275.8\" font-family=\"Helvetica,sans-Serif\" font-size=\"14.00\">gini = 0.00392926</text>\n",
       "<text text-anchor=\"middle\" x=\"833.5\" y=\"-260.8\" font-family=\"Helvetica,sans-Serif\" font-size=\"14.00\">samples = 1524</text>\n",
       "<text text-anchor=\"middle\" x=\"833.5\" y=\"-245.8\" font-family=\"Helvetica,sans-Serif\" font-size=\"14.00\">value = [1521, 3]</text>\n",
       "<text text-anchor=\"middle\" x=\"833.5\" y=\"-230.8\" font-family=\"Helvetica,sans-Serif\" font-size=\"14.00\">class = negative</text>\n",
       "</g>\n",
       "<!-- 0&#45;&gt;8 -->\n",
       "<g id=\"edge8\" class=\"edge\">\n",
       "<title>0&#45;&gt;8</title>\n",
       "<path fill=\"none\" stroke=\"black\" d=\"M734.89,-341.91C747.19,-332.38 760.39,-322.15 773.01,-312.37\"/>\n",
       "<polygon fill=\"black\" stroke=\"black\" points=\"775.44,-314.91 781.2,-306.02 771.16,-309.38 775.44,-314.91\"/>\n",
       "<text text-anchor=\"middle\" x=\"778.06\" y=\"-327.12\" font-family=\"Helvetica,sans-Serif\" font-size=\"14.00\">False</text>\n",
       "</g>\n",
       "<!-- 2 -->\n",
       "<g id=\"node3\" class=\"node\">\n",
       "<title>2</title>\n",
       "<path fill=\"#3a9ee5\" stroke=\"black\" d=\"M354.5,-187C354.5,-187 100.5,-187 100.5,-187 94.5,-187 88.5,-181 88.5,-175 88.5,-175 88.5,-116 88.5,-116 88.5,-110 94.5,-104 100.5,-104 100.5,-104 354.5,-104 354.5,-104 360.5,-104 366.5,-110 366.5,-116 366.5,-116 366.5,-175 366.5,-175 366.5,-181 360.5,-187 354.5,-187\"/>\n",
       "<text text-anchor=\"middle\" x=\"227.5\" y=\"-171.8\" font-family=\"Helvetica,sans-Serif\" font-size=\"14.00\">atrial fibrillation (AF) &lt;= 0.48117978</text>\n",
       "<text text-anchor=\"middle\" x=\"227.5\" y=\"-156.8\" font-family=\"Helvetica,sans-Serif\" font-size=\"14.00\">gini = 0.01369798</text>\n",
       "<text text-anchor=\"middle\" x=\"227.5\" y=\"-141.8\" font-family=\"Helvetica,sans-Serif\" font-size=\"14.00\">samples = 290</text>\n",
       "<text text-anchor=\"middle\" x=\"227.5\" y=\"-126.8\" font-family=\"Helvetica,sans-Serif\" font-size=\"14.00\">value = [2, 288]</text>\n",
       "<text text-anchor=\"middle\" x=\"227.5\" y=\"-111.8\" font-family=\"Helvetica,sans-Serif\" font-size=\"14.00\">class = positive</text>\n",
       "</g>\n",
       "<!-- 1&#45;&gt;2 -->\n",
       "<g id=\"edge2\" class=\"edge\">\n",
       "<title>1&#45;&gt;2</title>\n",
       "<path fill=\"none\" stroke=\"black\" d=\"M426.03,-222.91C399.03,-212.52 369.86,-201.29 342.42,-190.73\"/>\n",
       "<polygon fill=\"black\" stroke=\"black\" points=\"343.37,-187.35 332.78,-187.02 340.86,-193.88 343.37,-187.35\"/>\n",
       "</g>\n",
       "<!-- 5 -->\n",
       "<g id=\"node6\" class=\"node\">\n",
       "<title>5</title>\n",
       "<path fill=\"#f3c7a7\" stroke=\"black\" d=\"M666,-187C666,-187 397,-187 397,-187 391,-187 385,-181 385,-175 385,-175 385,-116 385,-116 385,-110 391,-104 397,-104 397,-104 666,-104 666,-104 672,-104 678,-110 678,-116 678,-116 678,-175 678,-175 678,-181 672,-187 666,-187\"/>\n",
       "<text text-anchor=\"middle\" x=\"531.5\" y=\"-171.8\" font-family=\"Helvetica,sans-Serif\" font-size=\"14.00\">sinus bradycardia (SB) &lt;= 0.00426048</text>\n",
       "<text text-anchor=\"middle\" x=\"531.5\" y=\"-156.8\" font-family=\"Helvetica,sans-Serif\" font-size=\"14.00\">gini = 0.45918367</text>\n",
       "<text text-anchor=\"middle\" x=\"531.5\" y=\"-141.8\" font-family=\"Helvetica,sans-Serif\" font-size=\"14.00\">samples = 14</text>\n",
       "<text text-anchor=\"middle\" x=\"531.5\" y=\"-126.8\" font-family=\"Helvetica,sans-Serif\" font-size=\"14.00\">value = [9, 5]</text>\n",
       "<text text-anchor=\"middle\" x=\"531.5\" y=\"-111.8\" font-family=\"Helvetica,sans-Serif\" font-size=\"14.00\">class = negative</text>\n",
       "</g>\n",
       "<!-- 1&#45;&gt;5 -->\n",
       "<g id=\"edge5\" class=\"edge\">\n",
       "<title>1&#45;&gt;5</title>\n",
       "<path fill=\"none\" stroke=\"black\" d=\"M531.5,-222.91C531.5,-214.65 531.5,-205.86 531.5,-197.3\"/>\n",
       "<polygon fill=\"black\" stroke=\"black\" points=\"535,-197.02 531.5,-187.02 528,-197.02 535,-197.02\"/>\n",
       "</g>\n",
       "<!-- 3 -->\n",
       "<g id=\"node4\" class=\"node\">\n",
       "<title>3</title>\n",
       "<path fill=\"#3a9de5\" stroke=\"black\" d=\"M137,-68C137,-68 12,-68 12,-68 6,-68 0,-62 0,-56 0,-56 0,-12 0,-12 0,-6 6,0 12,0 12,0 137,0 137,0 143,0 149,-6 149,-12 149,-12 149,-56 149,-56 149,-62 143,-68 137,-68\"/>\n",
       "<text text-anchor=\"middle\" x=\"74.5\" y=\"-52.8\" font-family=\"Helvetica,sans-Serif\" font-size=\"14.00\">gini = 0.00689647</text>\n",
       "<text text-anchor=\"middle\" x=\"74.5\" y=\"-37.8\" font-family=\"Helvetica,sans-Serif\" font-size=\"14.00\">samples = 289</text>\n",
       "<text text-anchor=\"middle\" x=\"74.5\" y=\"-22.8\" font-family=\"Helvetica,sans-Serif\" font-size=\"14.00\">value = [1, 288]</text>\n",
       "<text text-anchor=\"middle\" x=\"74.5\" y=\"-7.8\" font-family=\"Helvetica,sans-Serif\" font-size=\"14.00\">class = positive</text>\n",
       "</g>\n",
       "<!-- 2&#45;&gt;3 -->\n",
       "<g id=\"edge3\" class=\"edge\">\n",
       "<title>2&#45;&gt;3</title>\n",
       "<path fill=\"none\" stroke=\"black\" d=\"M170.53,-103.73C157.02,-94.06 142.64,-83.77 129.23,-74.17\"/>\n",
       "<polygon fill=\"black\" stroke=\"black\" points=\"131.2,-71.27 121.03,-68.3 127.12,-76.97 131.2,-71.27\"/>\n",
       "</g>\n",
       "<!-- 4 -->\n",
       "<g id=\"node5\" class=\"node\">\n",
       "<title>4</title>\n",
       "<path fill=\"#e58139\" stroke=\"black\" d=\"M287.5,-68C287.5,-68 179.5,-68 179.5,-68 173.5,-68 167.5,-62 167.5,-56 167.5,-56 167.5,-12 167.5,-12 167.5,-6 173.5,0 179.5,0 179.5,0 287.5,0 287.5,0 293.5,0 299.5,-6 299.5,-12 299.5,-12 299.5,-56 299.5,-56 299.5,-62 293.5,-68 287.5,-68\"/>\n",
       "<text text-anchor=\"middle\" x=\"233.5\" y=\"-52.8\" font-family=\"Helvetica,sans-Serif\" font-size=\"14.00\">gini = 0.0</text>\n",
       "<text text-anchor=\"middle\" x=\"233.5\" y=\"-37.8\" font-family=\"Helvetica,sans-Serif\" font-size=\"14.00\">samples = 1</text>\n",
       "<text text-anchor=\"middle\" x=\"233.5\" y=\"-22.8\" font-family=\"Helvetica,sans-Serif\" font-size=\"14.00\">value = [1, 0]</text>\n",
       "<text text-anchor=\"middle\" x=\"233.5\" y=\"-7.8\" font-family=\"Helvetica,sans-Serif\" font-size=\"14.00\">class = negative</text>\n",
       "</g>\n",
       "<!-- 2&#45;&gt;4 -->\n",
       "<g id=\"edge4\" class=\"edge\">\n",
       "<title>2&#45;&gt;4</title>\n",
       "<path fill=\"none\" stroke=\"black\" d=\"M229.73,-103.73C230.18,-95.52 230.66,-86.86 231.11,-78.56\"/>\n",
       "<polygon fill=\"black\" stroke=\"black\" points=\"234.62,-78.48 231.68,-68.3 227.63,-78.09 234.62,-78.48\"/>\n",
       "</g>\n",
       "<!-- 6 -->\n",
       "<g id=\"node7\" class=\"node\">\n",
       "<title>6</title>\n",
       "<path fill=\"#e58139\" stroke=\"black\" d=\"M481.5,-68C481.5,-68 373.5,-68 373.5,-68 367.5,-68 361.5,-62 361.5,-56 361.5,-56 361.5,-12 361.5,-12 361.5,-6 367.5,0 373.5,0 373.5,0 481.5,0 481.5,0 487.5,0 493.5,-6 493.5,-12 493.5,-12 493.5,-56 493.5,-56 493.5,-62 487.5,-68 481.5,-68\"/>\n",
       "<text text-anchor=\"middle\" x=\"427.5\" y=\"-52.8\" font-family=\"Helvetica,sans-Serif\" font-size=\"14.00\">gini = 0.0</text>\n",
       "<text text-anchor=\"middle\" x=\"427.5\" y=\"-37.8\" font-family=\"Helvetica,sans-Serif\" font-size=\"14.00\">samples = 9</text>\n",
       "<text text-anchor=\"middle\" x=\"427.5\" y=\"-22.8\" font-family=\"Helvetica,sans-Serif\" font-size=\"14.00\">value = [9, 0]</text>\n",
       "<text text-anchor=\"middle\" x=\"427.5\" y=\"-7.8\" font-family=\"Helvetica,sans-Serif\" font-size=\"14.00\">class = negative</text>\n",
       "</g>\n",
       "<!-- 5&#45;&gt;6 -->\n",
       "<g id=\"edge6\" class=\"edge\">\n",
       "<title>5&#45;&gt;6</title>\n",
       "<path fill=\"none\" stroke=\"black\" d=\"M492.77,-103.73C484.11,-94.61 474.92,-84.93 466.26,-75.81\"/>\n",
       "<polygon fill=\"black\" stroke=\"black\" points=\"468.55,-73.14 459.13,-68.3 463.48,-77.96 468.55,-73.14\"/>\n",
       "</g>\n",
       "<!-- 7 -->\n",
       "<g id=\"node8\" class=\"node\">\n",
       "<title>7</title>\n",
       "<path fill=\"#399de5\" stroke=\"black\" d=\"M625.5,-68C625.5,-68 523.5,-68 523.5,-68 517.5,-68 511.5,-62 511.5,-56 511.5,-56 511.5,-12 511.5,-12 511.5,-6 517.5,0 523.5,0 523.5,0 625.5,0 625.5,0 631.5,0 637.5,-6 637.5,-12 637.5,-12 637.5,-56 637.5,-56 637.5,-62 631.5,-68 625.5,-68\"/>\n",
       "<text text-anchor=\"middle\" x=\"574.5\" y=\"-52.8\" font-family=\"Helvetica,sans-Serif\" font-size=\"14.00\">gini = 0.0</text>\n",
       "<text text-anchor=\"middle\" x=\"574.5\" y=\"-37.8\" font-family=\"Helvetica,sans-Serif\" font-size=\"14.00\">samples = 5</text>\n",
       "<text text-anchor=\"middle\" x=\"574.5\" y=\"-22.8\" font-family=\"Helvetica,sans-Serif\" font-size=\"14.00\">value = [0, 5]</text>\n",
       "<text text-anchor=\"middle\" x=\"574.5\" y=\"-7.8\" font-family=\"Helvetica,sans-Serif\" font-size=\"14.00\">class = positive</text>\n",
       "</g>\n",
       "<!-- 5&#45;&gt;7 -->\n",
       "<g id=\"edge7\" class=\"edge\">\n",
       "<title>5&#45;&gt;7</title>\n",
       "<path fill=\"none\" stroke=\"black\" d=\"M547.51,-103.73C550.84,-95.24 554.36,-86.28 557.72,-77.73\"/>\n",
       "<polygon fill=\"black\" stroke=\"black\" points=\"561.03,-78.89 561.42,-68.3 554.51,-76.33 561.03,-78.89\"/>\n",
       "</g>\n",
       "<!-- 9 -->\n",
       "<g id=\"node10\" class=\"node\">\n",
       "<title>9</title>\n",
       "<path fill=\"#ffffff\" stroke=\"black\" d=\"M959,-187C959,-187 708,-187 708,-187 702,-187 696,-181 696,-175 696,-175 696,-116 696,-116 696,-110 702,-104 708,-104 708,-104 959,-104 959,-104 965,-104 971,-110 971,-116 971,-116 971,-175 971,-175 971,-181 965,-187 959,-187\"/>\n",
       "<text text-anchor=\"middle\" x=\"833.5\" y=\"-171.8\" font-family=\"Helvetica,sans-Serif\" font-size=\"14.00\">sinus tachycardia (ST) &lt;= 1.512e&#45;05</text>\n",
       "<text text-anchor=\"middle\" x=\"833.5\" y=\"-156.8\" font-family=\"Helvetica,sans-Serif\" font-size=\"14.00\">gini = 0.5</text>\n",
       "<text text-anchor=\"middle\" x=\"833.5\" y=\"-141.8\" font-family=\"Helvetica,sans-Serif\" font-size=\"14.00\">samples = 2</text>\n",
       "<text text-anchor=\"middle\" x=\"833.5\" y=\"-126.8\" font-family=\"Helvetica,sans-Serif\" font-size=\"14.00\">value = [1, 1]</text>\n",
       "<text text-anchor=\"middle\" x=\"833.5\" y=\"-111.8\" font-family=\"Helvetica,sans-Serif\" font-size=\"14.00\">class = negative</text>\n",
       "</g>\n",
       "<!-- 8&#45;&gt;9 -->\n",
       "<g id=\"edge9\" class=\"edge\">\n",
       "<title>8&#45;&gt;9</title>\n",
       "<path fill=\"none\" stroke=\"black\" d=\"M833.5,-222.91C833.5,-214.65 833.5,-205.86 833.5,-197.3\"/>\n",
       "<polygon fill=\"black\" stroke=\"black\" points=\"837,-197.02 833.5,-187.02 830,-197.02 837,-197.02\"/>\n",
       "</g>\n",
       "<!-- 12 -->\n",
       "<g id=\"node13\" class=\"node\">\n",
       "<title>12</title>\n",
       "<path fill=\"#e58139\" stroke=\"black\" d=\"M1126,-187C1126,-187 1001,-187 1001,-187 995,-187 989,-181 989,-175 989,-175 989,-116 989,-116 989,-110 995,-104 1001,-104 1001,-104 1126,-104 1126,-104 1132,-104 1138,-110 1138,-116 1138,-116 1138,-175 1138,-175 1138,-181 1132,-187 1126,-187\"/>\n",
       "<text text-anchor=\"middle\" x=\"1063.5\" y=\"-171.8\" font-family=\"Helvetica,sans-Serif\" font-size=\"14.00\">age &lt;= 22.5</text>\n",
       "<text text-anchor=\"middle\" x=\"1063.5\" y=\"-156.8\" font-family=\"Helvetica,sans-Serif\" font-size=\"14.00\">gini = 0.00262467</text>\n",
       "<text text-anchor=\"middle\" x=\"1063.5\" y=\"-141.8\" font-family=\"Helvetica,sans-Serif\" font-size=\"14.00\">samples = 1522</text>\n",
       "<text text-anchor=\"middle\" x=\"1063.5\" y=\"-126.8\" font-family=\"Helvetica,sans-Serif\" font-size=\"14.00\">value = [1520, 2]</text>\n",
       "<text text-anchor=\"middle\" x=\"1063.5\" y=\"-111.8\" font-family=\"Helvetica,sans-Serif\" font-size=\"14.00\">class = negative</text>\n",
       "</g>\n",
       "<!-- 8&#45;&gt;12 -->\n",
       "<g id=\"edge12\" class=\"edge\">\n",
       "<title>8&#45;&gt;12</title>\n",
       "<path fill=\"none\" stroke=\"black\" d=\"M909.13,-225.03C931.67,-213.56 956.5,-200.93 979.54,-189.21\"/>\n",
       "<polygon fill=\"black\" stroke=\"black\" points=\"981.28,-192.25 988.61,-184.6 978.11,-186.01 981.28,-192.25\"/>\n",
       "</g>\n",
       "<!-- 10 -->\n",
       "<g id=\"node11\" class=\"node\">\n",
       "<title>10</title>\n",
       "<path fill=\"#e58139\" stroke=\"black\" d=\"M797.5,-68C797.5,-68 689.5,-68 689.5,-68 683.5,-68 677.5,-62 677.5,-56 677.5,-56 677.5,-12 677.5,-12 677.5,-6 683.5,0 689.5,0 689.5,0 797.5,0 797.5,0 803.5,0 809.5,-6 809.5,-12 809.5,-12 809.5,-56 809.5,-56 809.5,-62 803.5,-68 797.5,-68\"/>\n",
       "<text text-anchor=\"middle\" x=\"743.5\" y=\"-52.8\" font-family=\"Helvetica,sans-Serif\" font-size=\"14.00\">gini = 0.0</text>\n",
       "<text text-anchor=\"middle\" x=\"743.5\" y=\"-37.8\" font-family=\"Helvetica,sans-Serif\" font-size=\"14.00\">samples = 1</text>\n",
       "<text text-anchor=\"middle\" x=\"743.5\" y=\"-22.8\" font-family=\"Helvetica,sans-Serif\" font-size=\"14.00\">value = [1, 0]</text>\n",
       "<text text-anchor=\"middle\" x=\"743.5\" y=\"-7.8\" font-family=\"Helvetica,sans-Serif\" font-size=\"14.00\">class = negative</text>\n",
       "</g>\n",
       "<!-- 9&#45;&gt;10 -->\n",
       "<g id=\"edge10\" class=\"edge\">\n",
       "<title>9&#45;&gt;10</title>\n",
       "<path fill=\"none\" stroke=\"black\" d=\"M799.99,-103.73C792.57,-94.7 784.7,-85.12 777.27,-76.08\"/>\n",
       "<polygon fill=\"black\" stroke=\"black\" points=\"779.92,-73.8 770.87,-68.3 774.52,-78.25 779.92,-73.8\"/>\n",
       "</g>\n",
       "<!-- 11 -->\n",
       "<g id=\"node12\" class=\"node\">\n",
       "<title>11</title>\n",
       "<path fill=\"#399de5\" stroke=\"black\" d=\"M941.5,-68C941.5,-68 839.5,-68 839.5,-68 833.5,-68 827.5,-62 827.5,-56 827.5,-56 827.5,-12 827.5,-12 827.5,-6 833.5,0 839.5,0 839.5,0 941.5,0 941.5,0 947.5,0 953.5,-6 953.5,-12 953.5,-12 953.5,-56 953.5,-56 953.5,-62 947.5,-68 941.5,-68\"/>\n",
       "<text text-anchor=\"middle\" x=\"890.5\" y=\"-52.8\" font-family=\"Helvetica,sans-Serif\" font-size=\"14.00\">gini = 0.0</text>\n",
       "<text text-anchor=\"middle\" x=\"890.5\" y=\"-37.8\" font-family=\"Helvetica,sans-Serif\" font-size=\"14.00\">samples = 1</text>\n",
       "<text text-anchor=\"middle\" x=\"890.5\" y=\"-22.8\" font-family=\"Helvetica,sans-Serif\" font-size=\"14.00\">value = [0, 1]</text>\n",
       "<text text-anchor=\"middle\" x=\"890.5\" y=\"-7.8\" font-family=\"Helvetica,sans-Serif\" font-size=\"14.00\">class = positive</text>\n",
       "</g>\n",
       "<!-- 9&#45;&gt;11 -->\n",
       "<g id=\"edge11\" class=\"edge\">\n",
       "<title>9&#45;&gt;11</title>\n",
       "<path fill=\"none\" stroke=\"black\" d=\"M854.72,-103.73C859.24,-95.06 864.01,-85.9 868.54,-77.18\"/>\n",
       "<polygon fill=\"black\" stroke=\"black\" points=\"871.65,-78.79 873.17,-68.3 865.44,-75.55 871.65,-78.79\"/>\n",
       "</g>\n",
       "<!-- 13 -->\n",
       "<g id=\"node14\" class=\"node\">\n",
       "<title>13</title>\n",
       "<path fill=\"#e6843e\" stroke=\"black\" d=\"M1120,-68C1120,-68 995,-68 995,-68 989,-68 983,-62 983,-56 983,-56 983,-12 983,-12 983,-6 989,0 995,0 995,0 1120,0 1120,0 1126,0 1132,-6 1132,-12 1132,-12 1132,-56 1132,-56 1132,-62 1126,-68 1120,-68\"/>\n",
       "<text text-anchor=\"middle\" x=\"1057.5\" y=\"-52.8\" font-family=\"Helvetica,sans-Serif\" font-size=\"14.00\">gini = 0.04759072</text>\n",
       "<text text-anchor=\"middle\" x=\"1057.5\" y=\"-37.8\" font-family=\"Helvetica,sans-Serif\" font-size=\"14.00\">samples = 82</text>\n",
       "<text text-anchor=\"middle\" x=\"1057.5\" y=\"-22.8\" font-family=\"Helvetica,sans-Serif\" font-size=\"14.00\">value = [80, 2]</text>\n",
       "<text text-anchor=\"middle\" x=\"1057.5\" y=\"-7.8\" font-family=\"Helvetica,sans-Serif\" font-size=\"14.00\">class = negative</text>\n",
       "</g>\n",
       "<!-- 12&#45;&gt;13 -->\n",
       "<g id=\"edge13\" class=\"edge\">\n",
       "<title>12&#45;&gt;13</title>\n",
       "<path fill=\"none\" stroke=\"black\" d=\"M1061.27,-103.73C1060.82,-95.52 1060.34,-86.86 1059.89,-78.56\"/>\n",
       "<polygon fill=\"black\" stroke=\"black\" points=\"1063.37,-78.09 1059.32,-68.3 1056.38,-78.48 1063.37,-78.09\"/>\n",
       "</g>\n",
       "<!-- 14 -->\n",
       "<g id=\"node15\" class=\"node\">\n",
       "<title>14</title>\n",
       "<path fill=\"#e58139\" stroke=\"black\" d=\"M1278.5,-68C1278.5,-68 1162.5,-68 1162.5,-68 1156.5,-68 1150.5,-62 1150.5,-56 1150.5,-56 1150.5,-12 1150.5,-12 1150.5,-6 1156.5,0 1162.5,0 1162.5,0 1278.5,0 1278.5,0 1284.5,0 1290.5,-6 1290.5,-12 1290.5,-12 1290.5,-56 1290.5,-56 1290.5,-62 1284.5,-68 1278.5,-68\"/>\n",
       "<text text-anchor=\"middle\" x=\"1220.5\" y=\"-52.8\" font-family=\"Helvetica,sans-Serif\" font-size=\"14.00\">gini = 0.0</text>\n",
       "<text text-anchor=\"middle\" x=\"1220.5\" y=\"-37.8\" font-family=\"Helvetica,sans-Serif\" font-size=\"14.00\">samples = 1440</text>\n",
       "<text text-anchor=\"middle\" x=\"1220.5\" y=\"-22.8\" font-family=\"Helvetica,sans-Serif\" font-size=\"14.00\">value = [1440, 0]</text>\n",
       "<text text-anchor=\"middle\" x=\"1220.5\" y=\"-7.8\" font-family=\"Helvetica,sans-Serif\" font-size=\"14.00\">class = negative</text>\n",
       "</g>\n",
       "<!-- 12&#45;&gt;14 -->\n",
       "<g id=\"edge14\" class=\"edge\">\n",
       "<title>12&#45;&gt;14</title>\n",
       "<path fill=\"none\" stroke=\"black\" d=\"M1121.96,-103.73C1135.82,-94.06 1150.58,-83.77 1164.34,-74.17\"/>\n",
       "<polygon fill=\"black\" stroke=\"black\" points=\"1166.56,-76.89 1172.76,-68.3 1162.55,-71.15 1166.56,-76.89\"/>\n",
       "</g>\n",
       "</g>\n",
       "</svg>\n"
      ],
      "text/plain": [
       "<graphviz.sources.Source at 0x7f27ad84e9a0>"
      ]
     },
     "execution_count": 183,
     "metadata": {},
     "output_type": "execute_result"
    }
   ],
   "source": [
    "dot_data = tree.export_graphviz(dtree, out_file=None, feature_names=DIAGS+['gender', 'age', 'ventricular_rate', 'atrial_rate', 'qt_intv'], class_names=['negative', 'positive'], filled=True, rounded=True, precision=8)\n",
    "graph = graphviz.Source(dot_data, format='png') \n",
    "graph.render(\"dtree_with_std_feat\")\n",
    "graph"
   ]
  },
  {
   "cell_type": "code",
   "execution_count": 134,
   "id": "f9bc7390-9eb1-4a3a-9aed-5469af74b0c4",
   "metadata": {},
   "outputs": [
    {
     "data": {
      "text/plain": [
       "0.98989898989899"
      ]
     },
     "execution_count": 134,
     "metadata": {},
     "output_type": "execute_result"
    }
   ],
   "source": [
    "f1_score(y_test, dtree.predict(X_test))"
   ]
  },
  {
   "cell_type": "code",
   "execution_count": 146,
   "id": "c91643bc-4d0d-44e0-a1a3-d3cb3d5f5fd1",
   "metadata": {},
   "outputs": [],
   "source": [
    "def evaluate_dtree(X, Y):\n",
    "    X_train, X_test, Y_train, Y_test = train_test_split(X, Y, test_size=0.2)\n",
    "    # print(X_train.shape, X_test.shape, Y_train.shape, Y_test.shape)\n",
    "    trees = []\n",
    "    for i, label in enumerate(DIAGS):\n",
    "        dtree = DecisionTreeClassifier(max_depth=3)\n",
    "        dtree.fit(X_train, Y_train[:, i])\n",
    "        y_test = Y_test[:, i]\n",
    "        y_pred = dtree.predict(X_test)\n",
    "        # print(dtree.score(X_test, Y_test[:, i]))\n",
    "        print(label, '\\t', f1_score(y_test, y_pred), '\\t', recall_score(y_test, y_pred), '\\t', precision_score(y_test, y_pred))\n",
    "        trees.append(dtree)\n",
    "    return trees"
   ]
  },
  {
   "cell_type": "code",
   "execution_count": 147,
   "id": "3f4c008b-5653-4103-8c95-0269a29c7359",
   "metadata": {},
   "outputs": [
    {
     "name": "stdout",
     "output_type": "stream",
     "text": [
      "1st degree AV block (1dAVb) \t 0.9066666666666667 \t 0.9714285714285714 \t 0.85\n",
      "right bundle branch block (RBBB) \t 0.9047619047619048 \t 0.8636363636363636 \t 0.95\n",
      "left bundle branch block (LBBB) \t 0.8955223880597014 \t 0.8823529411764706 \t 0.9090909090909091\n",
      "sinus bradycardia (SB) \t 0.8695652173913043 \t 0.8860759493670886 \t 0.8536585365853658\n",
      "atrial fibrillation (AF) \t 0.5 \t 0.3333333333333333 \t 1.0\n",
      "sinus tachycardia (ST) \t 0.888888888888889 \t 1.0 \t 0.8\n"
     ]
    }
   ],
   "source": [
    "dtree_list = evaluate_dtree(Y_ecg, Y_ground)"
   ]
  },
  {
   "cell_type": "markdown",
   "id": "d255f0ed-4798-41bd-8c77-cde0d480794d",
   "metadata": {},
   "source": [
    "## Split  & Train"
   ]
  },
  {
   "cell_type": "code",
   "execution_count": 59,
   "id": "ec582784-5219-4372-a406-cb350142354a",
   "metadata": {},
   "outputs": [],
   "source": [
    "from sklearn.model_selection import cross_val_score\n",
    "from sklearn.metrics import f1_score, precision_score, recall_score"
   ]
  },
  {
   "cell_type": "code",
   "execution_count": 139,
   "id": "9fcbdcd0-3f23-485d-9ac3-d232be6c5efe",
   "metadata": {},
   "outputs": [],
   "source": [
    "def f1(model, X, y):\n",
    "    return f1_score(model.predict(X), y)"
   ]
  },
  {
   "cell_type": "code",
   "execution_count": 170,
   "id": "8a94ef57-d9a6-49c0-bfd9-d25b4bc5d459",
   "metadata": {},
   "outputs": [
    {
     "name": "stdout",
     "output_type": "stream",
     "text": [
      "1st degree AV block (1dAVb) \t 0.8410439728436426\n",
      "right bundle branch block (RBBB) \t 0.861769534813013\n",
      "left bundle branch block (LBBB) \t 0.880796044251975\n",
      "sinus bradycardia (SB) \t 0.8186275407226752\n",
      "atrial fibrillation (AF) \t 0.7354214413037943\n",
      "sinus tachycardia (ST) \t 0.8989100201484103\n"
     ]
    }
   ],
   "source": [
    "for i in range(6):\n",
    "    print(DIAGS[i], '\\t', np.average(\n",
    "    cross_val_score(DecisionTreeClassifier(max_depth=3), Y_ecg, Y_ground[:, i], scoring=f1)\n",
    "    ))"
   ]
  },
  {
   "cell_type": "code",
   "execution_count": null,
   "id": "c1dd432f-d266-4cea-8f80-80f2b4dc6679",
   "metadata": {},
   "outputs": [],
   "source": [
    "f1_score(Y_ecg[:, 3] > 0.00001, Y_ground[:, 3])"
   ]
  },
  {
   "cell_type": "code",
   "execution_count": null,
   "id": "fd2107cf-76e9-4485-a784-0de3540ffbc1",
   "metadata": {},
   "outputs": [],
   "source": [
    "1st degree AV block (1dAVb) \t 0.8302617943440728\n",
    "right bundle branch block (RBBB) \t 0.8520829991665486\n",
    "left bundle branch block (LBBB) \t 0.896147010883853\n",
    "sinus bradycardia (SB) \t 0.984748032096953\n",
    "atrial fibrillation (AF) \t 0.7673561732385261\n",
    "sinus tachycardia (ST) \t 0.9215070532717592"
   ]
  }
 ],
 "metadata": {
  "kernelspec": {
   "display_name": "Python 3 (ipykernel)",
   "language": "python",
   "name": "python3"
  },
  "language_info": {
   "codemirror_mode": {
    "name": "ipython",
    "version": 3
   },
   "file_extension": ".py",
   "mimetype": "text/x-python",
   "name": "python",
   "nbconvert_exporter": "python",
   "pygments_lexer": "ipython3",
   "version": "3.9.15"
  }
 },
 "nbformat": 4,
 "nbformat_minor": 5
}
