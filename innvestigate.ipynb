{
 "cells": [
  {
   "cell_type": "code",
   "execution_count": 1,
   "id": "8e4a584f",
   "metadata": {},
   "outputs": [],
   "source": [
    "import matplotlib.pyplot as plt\n",
    "import numpy as np\n",
    "import pandas as pd\n",
    "import scipy\n",
    "\n",
    "%matplotlib inline"
   ]
  },
  {
   "cell_type": "code",
   "execution_count": 2,
   "id": "f2840084-0bc5-4620-9253-63938a3b68a6",
   "metadata": {},
   "outputs": [],
   "source": [
    "import xml.etree.ElementTree as ET\n",
    "\n",
    "\n",
    "def get_diagnosis(fillename: str) -> None:\n",
    "    root = ET.parse(filename).getroot()\n",
    "    # node = root\n",
    "    # for i, e in enumerate(node):\n",
    "    #     print(i, \"\\t\", e)\n",
    "\n",
    "    print(\"Diagnosis:\", \"\\n\")\n",
    "\n",
    "    node = root[6]\n",
    "\n",
    "    for i in node:\n",
    "        if i.tag == \"DiagnosisStatement\":\n",
    "            for j in i:\n",
    "                if j.tag == \"StmtText\":\n",
    "                    print(j.text)"
   ]
  },
  {
   "cell_type": "code",
   "execution_count": 3,
   "id": "620482fc-0609-4ca4-bdb0-ea261a2d90af",
   "metadata": {},
   "outputs": [],
   "source": [
    "def plot_ecg(X):\n",
    "    leads = [\"I\", \"II\", \"III\", \"aVR\", \"aVL\", \"aVF\", \"V1\", \"V2\", \"V3\", \"V4\", \"V5\", \"V6\"]\n",
    "    for c in range(12):\n",
    "        plt.figure(figsize=(20, 5))\n",
    "        plt.plot(X[:, c])\n",
    "        plt.title(leads[c])\n",
    "        plt.grid()\n",
    "\n",
    "    plt.show()"
   ]
  },
  {
   "cell_type": "code",
   "execution_count": 4,
   "id": "85990829-3ebe-4281-addd-c08785d46044",
   "metadata": {},
   "outputs": [],
   "source": [
    "data = [\n",
    "    pd.read_csv(f\"data/patient_{i}.csv\").drop(columns=\"Unnamed: 12\") for i in [1, 2]\n",
    "]"
   ]
  },
  {
   "cell_type": "code",
   "execution_count": 5,
   "id": "eeda694c-6db1-4721-9959-097c1cbd9129",
   "metadata": {},
   "outputs": [
    {
     "name": "stdout",
     "output_type": "stream",
     "text": [
      "(2, 4096, 12)\n"
     ]
    }
   ],
   "source": [
    "X = scipy.signal.resample(data, 4000, axis=-2)[...]\n",
    "X = np.pad(X, ((0, 0), (48, 48), (0, 0)), \"constant\")\n",
    "X = X / 100\n",
    "print(X.shape)"
   ]
  },
  {
   "cell_type": "code",
   "execution_count": 6,
   "id": "1a056163-92a7-4fb3-a74f-dab95b00f7a5",
   "metadata": {
    "tags": []
   },
   "outputs": [],
   "source": [
    "# plot_ecg(X[0])"
   ]
  },
  {
   "cell_type": "code",
   "execution_count": 7,
   "id": "81885c0c-1aa4-45a3-8862-2d8a72287548",
   "metadata": {},
   "outputs": [
    {
     "name": "stderr",
     "output_type": "stream",
     "text": [
      "2023-01-12 16:57:48.961637: I tensorflow/core/platform/cpu_feature_guard.cc:193] This TensorFlow binary is optimized with oneAPI Deep Neural Network Library (oneDNN) to use the following CPU instructions in performance-critical operations:  SSE4.1 SSE4.2 AVX AVX2 FMA\n",
      "To enable them in other operations, rebuild TensorFlow with the appropriate compiler flags.\n"
     ]
    },
    {
     "name": "stdout",
     "output_type": "stream",
     "text": [
      "WARNING:tensorflow:From /users/eleves-b/2020/nhat.vo/.conda/envs/thesis/lib/python3.9/site-packages/keras/layers/normalization/batch_normalization.py:562: _colocate_with (from tensorflow.python.framework.ops) is deprecated and will be removed in a future version.\n",
      "Instructions for updating:\n",
      "Colocations handled automatically by placer.\n"
     ]
    },
    {
     "name": "stderr",
     "output_type": "stream",
     "text": [
      "2023-01-12 16:57:52.546362: I tensorflow/core/platform/cpu_feature_guard.cc:193] This TensorFlow binary is optimized with oneAPI Deep Neural Network Library (oneDNN) to use the following CPU instructions in performance-critical operations:  SSE4.1 SSE4.2 AVX AVX2 FMA\n",
      "To enable them in other operations, rebuild TensorFlow with the appropriate compiler flags.\n",
      "2023-01-12 16:57:52.548314: I tensorflow/core/common_runtime/process_util.cc:146] Creating new thread pool with default inter op setting: 2. Tune using inter_op_parallelism_threads for best performance.\n",
      "2023-01-12 16:57:52.567124: I tensorflow/compiler/mlir/mlir_graph_optimization_pass.cc:354] MLIR V1 optimization pass is not enabled\n"
     ]
    }
   ],
   "source": [
    "import tensorflow as tf\n",
    "from keras.models import load_model\n",
    "from keras.optimizers import Adam\n",
    "\n",
    "tf.compat.v1.disable_eager_execution()\n",
    "model = load_model(\"model/model.hdf5\", compile=False)\n",
    "model.compile(loss=\"binary_crossentropy\", optimizer=Adam())"
   ]
  },
  {
   "cell_type": "code",
   "execution_count": 8,
   "id": "1abf4d23-9810-4e03-abc8-8f4c5efedb17",
   "metadata": {},
   "outputs": [
    {
     "name": "stderr",
     "output_type": "stream",
     "text": [
      "/users/eleves-b/2020/nhat.vo/.conda/envs/thesis/lib/python3.9/site-packages/keras/engine/training_v1.py:2356: UserWarning: `Model.state_updates` will be removed in a future version. This property should not be used in TensorFlow 2.0, as `updates` are applied automatically.\n",
      "  updates=self.state_updates,\n"
     ]
    },
    {
     "name": "stdout",
     "output_type": "stream",
     "text": [
      "[[5.0600321e-04 2.9564858e-04 8.2674196e-05 9.6254404e-08 6.3298506e-01\n",
      "  1.3814695e-04]\n",
      " [6.0870657e-06 1.3384314e-07 4.8042050e-09 9.6219708e-08 1.5358246e-08\n",
      "  3.4617647e-06]]\n",
      "[[False False False False  True False]\n",
      " [False False False False False False]]\n"
     ]
    }
   ],
   "source": [
    "Y = model.predict(X)\n",
    "print(Y)\n",
    "print(Y > 0.5)"
   ]
  },
  {
   "cell_type": "code",
   "execution_count": 9,
   "id": "224efa72-f379-4c97-8cb9-aea1e52fca31",
   "metadata": {},
   "outputs": [],
   "source": [
    "import innvestigate"
   ]
  },
  {
   "cell_type": "code",
   "execution_count": 17,
   "id": "5a97ee71-e3a0-46f1-8417-aeb34e0fcfca",
   "metadata": {},
   "outputs": [],
   "source": [
    "smoothgrad = innvestigate.create_analyzer(\"gradient\", model)\n",
    "gradient_analyzer = innvestigate.analyzer.Gradient(model)"
   ]
  },
  {
   "cell_type": "code",
   "execution_count": null,
   "id": "dd260fba-769a-4bc5-84c9-28fb2b288659",
   "metadata": {},
   "outputs": [
    {
     "name": "stdout",
     "output_type": "stream",
     "text": [
      "Model: \"model_7\"\n",
      "__________________________________________________________________________________________________\n",
      " Layer (type)                   Output Shape         Param #     Connected to                     \n",
      "==================================================================================================\n",
      " signal (InputLayer)            [(None, 4096, 12)]   0           []                               \n",
      "                                                                                                  \n",
      " conv1d_1 (Conv1D)              (None, 4096, 64)     12288       ['signal[0][0]']                 \n",
      "                                                                                                  \n",
      " batch_normalization_1 (BatchNo  (None, 4096, 64)    256         ['conv1d_1[0][0]']               \n",
      " rmalization)                                                                                     \n",
      "                                                                                                  \n",
      " activation_1 (Activation)      (None, 4096, 64)     0           ['batch_normalization_1[0][0]']  \n",
      "                                                                                                  \n",
      " conv1d_3 (Conv1D)              (None, 4096, 128)    131072      ['activation_1[0][0]']           \n",
      "                                                                                                  \n",
      " batch_normalization_2 (BatchNo  (None, 4096, 128)   512         ['conv1d_3[0][0]']               \n",
      " rmalization)                                                                                     \n",
      "                                                                                                  \n",
      " activation_2 (Activation)      (None, 4096, 128)    0           ['batch_normalization_2[0][0]']  \n",
      "                                                                                                  \n",
      " dropout_1 (Dropout)            (None, 4096, 128)    0           ['activation_2[0][0]']           \n",
      "                                                                                                  \n",
      " max_pooling1d_1 (MaxPooling1D)  (None, 1024, 64)    0           ['activation_1[0][0]']           \n",
      "                                                                                                  \n",
      " conv1d_4 (Conv1D)              (None, 1024, 128)    262144      ['dropout_1[0][0]']              \n",
      "                                                                                                  \n",
      " conv1d_2 (Conv1D)              (None, 1024, 128)    8192        ['max_pooling1d_1[0][0]']        \n",
      "                                                                                                  \n",
      " add_1 (Add)                    (None, 1024, 128)    0           ['conv1d_4[0][0]',               \n",
      "                                                                  'conv1d_2[0][0]']               \n",
      "                                                                                                  \n",
      " batch_normalization_3 (BatchNo  (None, 1024, 128)   512         ['add_1[0][0]']                  \n",
      " rmalization)                                                                                     \n",
      "                                                                                                  \n",
      " activation_3 (Activation)      (None, 1024, 128)    0           ['batch_normalization_3[0][0]']  \n",
      "                                                                                                  \n",
      " dropout_2 (Dropout)            (None, 1024, 128)    0           ['activation_3[0][0]']           \n",
      "                                                                                                  \n",
      " conv1d_6 (Conv1D)              (None, 1024, 196)    401408      ['dropout_2[0][0]']              \n",
      "                                                                                                  \n",
      " batch_normalization_4 (BatchNo  (None, 1024, 196)   784         ['conv1d_6[0][0]']               \n",
      " rmalization)                                                                                     \n",
      "                                                                                                  \n",
      " activation_4 (Activation)      (None, 1024, 196)    0           ['batch_normalization_4[0][0]']  \n",
      "                                                                                                  \n",
      " dropout_3 (Dropout)            (None, 1024, 196)    0           ['activation_4[0][0]']           \n",
      "                                                                                                  \n",
      " max_pooling1d_2 (MaxPooling1D)  (None, 256, 128)    0           ['add_1[0][0]']                  \n",
      "                                                                                                  \n",
      " conv1d_7 (Conv1D)              (None, 256, 196)     614656      ['dropout_3[0][0]']              \n",
      "                                                                                                  \n",
      " conv1d_5 (Conv1D)              (None, 256, 196)     25088       ['max_pooling1d_2[0][0]']        \n",
      "                                                                                                  \n",
      " add_2 (Add)                    (None, 256, 196)     0           ['conv1d_7[0][0]',               \n",
      "                                                                  'conv1d_5[0][0]']               \n",
      "                                                                                                  \n",
      " batch_normalization_5 (BatchNo  (None, 256, 196)    784         ['add_2[0][0]']                  \n",
      " rmalization)                                                                                     \n",
      "                                                                                                  \n",
      " activation_5 (Activation)      (None, 256, 196)     0           ['batch_normalization_5[0][0]']  \n",
      "                                                                                                  \n",
      " dropout_4 (Dropout)            (None, 256, 196)     0           ['activation_5[0][0]']           \n",
      "                                                                                                  \n",
      " conv1d_9 (Conv1D)              (None, 256, 256)     802816      ['dropout_4[0][0]']              \n",
      "                                                                                                  \n",
      " batch_normalization_6 (BatchNo  (None, 256, 256)    1024        ['conv1d_9[0][0]']               \n",
      " rmalization)                                                                                     \n",
      "                                                                                                  \n",
      " activation_6 (Activation)      (None, 256, 256)     0           ['batch_normalization_6[0][0]']  \n",
      "                                                                                                  \n",
      " dropout_5 (Dropout)            (None, 256, 256)     0           ['activation_6[0][0]']           \n",
      "                                                                                                  \n",
      " max_pooling1d_3 (MaxPooling1D)  (None, 64, 196)     0           ['add_2[0][0]']                  \n",
      "                                                                                                  \n",
      " conv1d_10 (Conv1D)             (None, 64, 256)      1048576     ['dropout_5[0][0]']              \n",
      "                                                                                                  \n",
      " conv1d_8 (Conv1D)              (None, 64, 256)      50176       ['max_pooling1d_3[0][0]']        \n",
      "                                                                                                  \n",
      " add_3 (Add)                    (None, 64, 256)      0           ['conv1d_10[0][0]',              \n",
      "                                                                  'conv1d_8[0][0]']               \n",
      "                                                                                                  \n",
      " batch_normalization_7 (BatchNo  (None, 64, 256)     1024        ['add_3[0][0]']                  \n",
      " rmalization)                                                                                     \n",
      "                                                                                                  \n",
      " activation_7 (Activation)      (None, 64, 256)      0           ['batch_normalization_7[0][0]']  \n",
      "                                                                                                  \n",
      " dropout_6 (Dropout)            (None, 64, 256)      0           ['activation_7[0][0]']           \n",
      "                                                                                                  \n",
      " conv1d_12 (Conv1D)             (None, 64, 320)      1310720     ['dropout_6[0][0]']              \n",
      "                                                                                                  \n",
      " batch_normalization_8 (BatchNo  (None, 64, 320)     1280        ['conv1d_12[0][0]']              \n",
      " rmalization)                                                                                     \n",
      "                                                                                                  \n",
      " activation_8 (Activation)      (None, 64, 320)      0           ['batch_normalization_8[0][0]']  \n",
      "                                                                                                  \n",
      " dropout_7 (Dropout)            (None, 64, 320)      0           ['activation_8[0][0]']           \n",
      "                                                                                                  \n",
      " max_pooling1d_4 (MaxPooling1D)  (None, 16, 256)     0           ['add_3[0][0]']                  \n",
      "                                                                                                  \n",
      " conv1d_13 (Conv1D)             (None, 16, 320)      1638400     ['dropout_7[0][0]']              \n",
      "                                                                                                  \n",
      " conv1d_11 (Conv1D)             (None, 16, 320)      81920       ['max_pooling1d_4[0][0]']        \n",
      "                                                                                                  \n",
      " add_4 (Add)                    (None, 16, 320)      0           ['conv1d_13[0][0]',              \n",
      "                                                                  'conv1d_11[0][0]']              \n",
      "                                                                                                  \n",
      " batch_normalization_9 (BatchNo  (None, 16, 320)     1280        ['add_4[0][0]']                  \n",
      " rmalization)                                                                                     \n",
      "                                                                                                  \n",
      " activation_9 (Activation)      (None, 16, 320)      0           ['batch_normalization_9[0][0]']  \n",
      "                                                                                                  \n",
      " dropout_8 (Dropout)            (None, 16, 320)      0           ['activation_9[0][0]']           \n",
      "                                                                                                  \n",
      " flatten_1 (Flatten)            (None, 5120)         0           ['dropout_8[0][0]']              \n",
      "                                                                                                  \n",
      " dense_8 (Dense)                (None, 6)            30726       ['flatten_1[0][0]']              \n",
      "                                                                                                  \n",
      "==================================================================================================\n",
      "Total params: 6,425,638\n",
      "Trainable params: 6,421,910\n",
      "Non-trainable params: 3,728\n",
      "__________________________________________________________________________________________________\n"
     ]
    }
   ],
   "source": [
    "model.summary()"
   ]
  },
  {
   "cell_type": "code",
   "execution_count": 20,
   "id": "b0c31576-bfaa-4dfd-bcca-09beb7d6fea1",
   "metadata": {},
   "outputs": [
    {
     "ename": "InvalidArgumentError",
     "evalue": "You must feed a value for placeholder tensor 'signal' with dtype float and shape [?,4096,12]\n\t [[{{node signal}}]]",
     "output_type": "error",
     "traceback": [
      "\u001b[0;31m---------------------------------------------------------------------------\u001b[0m",
      "\u001b[0;31mInvalidArgumentError\u001b[0m                      Traceback (most recent call last)",
      "Cell \u001b[0;32mIn[20], line 1\u001b[0m\n\u001b[0;32m----> 1\u001b[0m analysis \u001b[38;5;241m=\u001b[39m \u001b[43mgradient_analyzer\u001b[49m\u001b[38;5;241;43m.\u001b[39;49m\u001b[43manalyze\u001b[49m\u001b[43m(\u001b[49m\u001b[43mX\u001b[49m\u001b[43m[\u001b[49m\u001b[38;5;241;43m0\u001b[39;49m\u001b[43m]\u001b[49m\u001b[43m)\u001b[49m\n",
      "File \u001b[0;32m~/.conda/envs/thesis/lib/python3.9/site-packages/innvestigate/analyzer/network_base.py:250\u001b[0m, in \u001b[0;36mAnalyzerNetworkBase.analyze\u001b[0;34m(self, X, neuron_selection)\u001b[0m\n\u001b[1;32m    247\u001b[0m \u001b[38;5;66;03m# TODO: what does should mean in docstring?\u001b[39;00m\n\u001b[1;32m    249\u001b[0m \u001b[38;5;28;01mif\u001b[39;00m \u001b[38;5;28mself\u001b[39m\u001b[38;5;241m.\u001b[39m_analyzer_model_done \u001b[38;5;129;01mis\u001b[39;00m \u001b[38;5;28;01mFalse\u001b[39;00m:\n\u001b[0;32m--> 250\u001b[0m     \u001b[38;5;28;43mself\u001b[39;49m\u001b[38;5;241;43m.\u001b[39;49m\u001b[43mcreate_analyzer_model\u001b[49m\u001b[43m(\u001b[49m\u001b[43m)\u001b[49m\n\u001b[1;32m    252\u001b[0m \u001b[38;5;28;01mif\u001b[39;00m neuron_selection \u001b[38;5;129;01mis\u001b[39;00m \u001b[38;5;129;01mnot\u001b[39;00m \u001b[38;5;28;01mNone\u001b[39;00m \u001b[38;5;129;01mand\u001b[39;00m \u001b[38;5;28mself\u001b[39m\u001b[38;5;241m.\u001b[39m_neuron_selection_mode \u001b[38;5;241m!=\u001b[39m \u001b[38;5;124m\"\u001b[39m\u001b[38;5;124mindex\u001b[39m\u001b[38;5;124m\"\u001b[39m:\n\u001b[1;32m    253\u001b[0m     \u001b[38;5;28;01mraise\u001b[39;00m \u001b[38;5;167;01mValueError\u001b[39;00m(\n\u001b[1;32m    254\u001b[0m         \u001b[38;5;124mf\u001b[39m\u001b[38;5;124m\"\u001b[39m\u001b[38;5;124mneuron_selection_mode \u001b[39m\u001b[38;5;132;01m{\u001b[39;00m\u001b[38;5;28mself\u001b[39m\u001b[38;5;241m.\u001b[39m_neuron_selection_mode\u001b[38;5;132;01m}\u001b[39;00m\u001b[38;5;124m doesn\u001b[39m\u001b[38;5;124m'\u001b[39m\u001b[38;5;124mt support \u001b[39m\u001b[38;5;124m\"\u001b[39m,\n\u001b[1;32m    255\u001b[0m         \u001b[38;5;124m\"\u001b[39m\u001b[38;5;124m'\u001b[39m\u001b[38;5;124mneuron_selection\u001b[39m\u001b[38;5;124m'\u001b[39m\u001b[38;5;124m parameter.\u001b[39m\u001b[38;5;124m\"\u001b[39m,\n\u001b[1;32m    256\u001b[0m     )\n",
      "File \u001b[0;32m~/.conda/envs/thesis/lib/python3.9/site-packages/innvestigate/analyzer/network_base.py:164\u001b[0m, in \u001b[0;36mAnalyzerNetworkBase.create_analyzer_model\u001b[0;34m(self)\u001b[0m\n\u001b[1;32m    161\u001b[0m \u001b[38;5;28mself\u001b[39m\u001b[38;5;241m.\u001b[39m_analysis_inputs \u001b[38;5;241m=\u001b[39m analysis_inputs\n\u001b[1;32m    162\u001b[0m \u001b[38;5;28mself\u001b[39m\u001b[38;5;241m.\u001b[39m_prepared_model \u001b[38;5;241m=\u001b[39m model\n\u001b[0;32m--> 164\u001b[0m tmp \u001b[38;5;241m=\u001b[39m \u001b[38;5;28;43mself\u001b[39;49m\u001b[38;5;241;43m.\u001b[39;49m\u001b[43m_create_analysis\u001b[49m\u001b[43m(\u001b[49m\n\u001b[1;32m    165\u001b[0m \u001b[43m    \u001b[49m\u001b[43mmodel\u001b[49m\u001b[43m,\u001b[49m\u001b[43m \u001b[49m\u001b[43mstop_analysis_at_tensors\u001b[49m\u001b[38;5;241;43m=\u001b[39;49m\u001b[43mstop_analysis_at_tensors\u001b[49m\n\u001b[1;32m    166\u001b[0m \u001b[43m\u001b[49m\u001b[43m)\u001b[49m\n\u001b[1;32m    167\u001b[0m \u001b[38;5;28;01mif\u001b[39;00m \u001b[38;5;28misinstance\u001b[39m(tmp, \u001b[38;5;28mtuple\u001b[39m):\n\u001b[1;32m    168\u001b[0m     \u001b[38;5;28;01mif\u001b[39;00m \u001b[38;5;28mlen\u001b[39m(tmp) \u001b[38;5;241m==\u001b[39m \u001b[38;5;241m3\u001b[39m:\n",
      "File \u001b[0;32m~/.conda/envs/thesis/lib/python3.9/site-packages/innvestigate/analyzer/reverse_base.py:269\u001b[0m, in \u001b[0;36mReverseAnalyzerBase._create_analysis\u001b[0;34m(self, model, stop_analysis_at_tensors)\u001b[0m\n\u001b[1;32m    261\u001b[0m return_all_reversed_tensors \u001b[38;5;241m=\u001b[39m (\n\u001b[1;32m    262\u001b[0m     \u001b[38;5;28mself\u001b[39m\u001b[38;5;241m.\u001b[39m_reverse_check_min_max_values\n\u001b[1;32m    263\u001b[0m     \u001b[38;5;129;01mor\u001b[39;00m \u001b[38;5;28mself\u001b[39m\u001b[38;5;241m.\u001b[39m_reverse_check_finite\n\u001b[1;32m    264\u001b[0m     \u001b[38;5;129;01mor\u001b[39;00m \u001b[38;5;28mself\u001b[39m\u001b[38;5;241m.\u001b[39m_reverse_keep_tensors\n\u001b[1;32m    265\u001b[0m )\n\u001b[1;32m    267\u001b[0m \u001b[38;5;66;03m# if return_all_reversed_tensors is False,\u001b[39;00m\n\u001b[1;32m    268\u001b[0m \u001b[38;5;66;03m# reversed_tensors will be None\u001b[39;00m\n\u001b[0;32m--> 269\u001b[0m reversed_input_tensors, reversed_tensors \u001b[38;5;241m=\u001b[39m \u001b[38;5;28;43mself\u001b[39;49m\u001b[38;5;241;43m.\u001b[39;49m\u001b[43m_reverse_model\u001b[49m\u001b[43m(\u001b[49m\n\u001b[1;32m    270\u001b[0m \u001b[43m    \u001b[49m\u001b[43mmodel\u001b[49m\u001b[43m,\u001b[49m\n\u001b[1;32m    271\u001b[0m \u001b[43m    \u001b[49m\u001b[43mstop_analysis_at_tensors\u001b[49m\u001b[38;5;241;43m=\u001b[39;49m\u001b[43mstop_analysis_at_tensors\u001b[49m\u001b[43m,\u001b[49m\n\u001b[1;32m    272\u001b[0m \u001b[43m    \u001b[49m\u001b[43mreturn_all_reversed_tensors\u001b[49m\u001b[38;5;241;43m=\u001b[39;49m\u001b[43mreturn_all_reversed_tensors\u001b[49m\u001b[43m,\u001b[49m\n\u001b[1;32m    273\u001b[0m \u001b[43m\u001b[49m\u001b[43m)\u001b[49m\n\u001b[1;32m    274\u001b[0m ret \u001b[38;5;241m=\u001b[39m \u001b[38;5;28mself\u001b[39m\u001b[38;5;241m.\u001b[39m_postprocess_analysis(reversed_input_tensors)\n\u001b[1;32m    276\u001b[0m \u001b[38;5;28;01mif\u001b[39;00m return_all_reversed_tensors:\n",
      "File \u001b[0;32m~/.conda/envs/thesis/lib/python3.9/site-packages/innvestigate/analyzer/reverse_base.py:242\u001b[0m, in \u001b[0;36mReverseAnalyzerBase._reverse_model\u001b[0;34m(self, model, stop_analysis_at_tensors, return_all_reversed_tensors)\u001b[0m\n\u001b[1;32m    239\u001b[0m \u001b[38;5;28;01mif\u001b[39;00m stop_analysis_at_tensors \u001b[38;5;129;01mis\u001b[39;00m \u001b[38;5;28;01mNone\u001b[39;00m:\n\u001b[1;32m    240\u001b[0m     stop_analysis_at_tensors \u001b[38;5;241m=\u001b[39m []\n\u001b[0;32m--> 242\u001b[0m \u001b[38;5;28;01mreturn\u001b[39;00m \u001b[43migraph\u001b[49m\u001b[38;5;241;43m.\u001b[39;49m\u001b[43mreverse_model\u001b[49m\u001b[43m(\u001b[49m\n\u001b[1;32m    243\u001b[0m \u001b[43m    \u001b[49m\u001b[43mmodel\u001b[49m\u001b[43m,\u001b[49m\n\u001b[1;32m    244\u001b[0m \u001b[43m    \u001b[49m\u001b[43mreverse_mappings\u001b[49m\u001b[38;5;241;43m=\u001b[39;49m\u001b[38;5;28;43mself\u001b[39;49m\u001b[38;5;241;43m.\u001b[39;49m\u001b[43m_reverse_mapping\u001b[49m\u001b[43m,\u001b[49m\n\u001b[1;32m    245\u001b[0m \u001b[43m    \u001b[49m\u001b[43mdefault_reverse_mapping\u001b[49m\u001b[38;5;241;43m=\u001b[39;49m\u001b[38;5;28;43mself\u001b[39;49m\u001b[38;5;241;43m.\u001b[39;49m\u001b[43m_default_reverse_mapping\u001b[49m\u001b[43m,\u001b[49m\n\u001b[1;32m    246\u001b[0m \u001b[43m    \u001b[49m\u001b[43mhead_mapping\u001b[49m\u001b[38;5;241;43m=\u001b[39;49m\u001b[38;5;28;43mself\u001b[39;49m\u001b[38;5;241;43m.\u001b[39;49m\u001b[43m_head_mapping\u001b[49m\u001b[43m,\u001b[49m\n\u001b[1;32m    247\u001b[0m \u001b[43m    \u001b[49m\u001b[43mstop_mapping_at_tensors\u001b[49m\u001b[38;5;241;43m=\u001b[39;49m\u001b[43mstop_analysis_at_tensors\u001b[49m\u001b[43m,\u001b[49m\n\u001b[1;32m    248\u001b[0m \u001b[43m    \u001b[49m\u001b[43mverbose\u001b[49m\u001b[38;5;241;43m=\u001b[39;49m\u001b[38;5;28;43mself\u001b[39;49m\u001b[38;5;241;43m.\u001b[39;49m\u001b[43m_reverse_verbose\u001b[49m\u001b[43m,\u001b[49m\n\u001b[1;32m    249\u001b[0m \u001b[43m    \u001b[49m\u001b[43mclip_all_reversed_tensors\u001b[49m\u001b[38;5;241;43m=\u001b[39;49m\u001b[38;5;28;43mself\u001b[39;49m\u001b[38;5;241;43m.\u001b[39;49m\u001b[43m_reverse_clip_values\u001b[49m\u001b[43m,\u001b[49m\n\u001b[1;32m    250\u001b[0m \u001b[43m    \u001b[49m\u001b[43mproject_bottleneck_tensors\u001b[49m\u001b[38;5;241;43m=\u001b[39;49m\u001b[38;5;28;43mself\u001b[39;49m\u001b[38;5;241;43m.\u001b[39;49m\u001b[43m_reverse_project_bottleneck_layers\u001b[49m\u001b[43m,\u001b[49m\n\u001b[1;32m    251\u001b[0m \u001b[43m    \u001b[49m\u001b[43mreturn_all_reversed_tensors\u001b[49m\u001b[38;5;241;43m=\u001b[39;49m\u001b[43mreturn_all_reversed_tensors\u001b[49m\u001b[43m,\u001b[49m\n\u001b[1;32m    252\u001b[0m \u001b[43m\u001b[49m\u001b[43m)\u001b[49m\n",
      "File \u001b[0;32m~/.conda/envs/thesis/lib/python3.9/site-packages/innvestigate/backend/graph.py:1230\u001b[0m, in \u001b[0;36mreverse_model\u001b[0;34m(model, reverse_mappings, default_reverse_mapping, head_mapping, stop_mapping_at_tensors, verbose, return_all_reversed_tensors, clip_all_reversed_tensors, project_bottleneck_tensors, execution_trace, reapply_on_copied_layers)\u001b[0m\n\u001b[1;32m   1223\u001b[0m \u001b[38;5;28;01mif\u001b[39;00m \u001b[38;5;129;01mnot\u001b[39;00m \u001b[38;5;28mall\u001b[39m(\u001b[38;5;28mid\u001b[39m(Y) \u001b[38;5;129;01min\u001b[39;00m reversed_tensors \u001b[38;5;28;01mfor\u001b[39;00m Y \u001b[38;5;129;01min\u001b[39;00m Ys):\n\u001b[1;32m   1224\u001b[0m     \u001b[38;5;66;03m# This node is not part of our computational graph.\u001b[39;00m\n\u001b[1;32m   1225\u001b[0m     \u001b[38;5;66;03m# The (node-)world is bigger than this model.\u001b[39;00m\n\u001b[1;32m   1226\u001b[0m     \u001b[38;5;66;03m# Potentially this node is also not part of the\u001b[39;00m\n\u001b[1;32m   1227\u001b[0m     \u001b[38;5;66;03m# reversed tensor set because it depends on a tensor\u001b[39;00m\n\u001b[1;32m   1228\u001b[0m     \u001b[38;5;66;03m# that is listed in stop_mapping_at_ids.\u001b[39;00m\n\u001b[1;32m   1229\u001b[0m     \u001b[38;5;28;01mcontinue\u001b[39;00m\n\u001b[0;32m-> 1230\u001b[0m reversed_Ys \u001b[38;5;241m=\u001b[39m [get_reversed_tensor(Y) \u001b[38;5;28;01mfor\u001b[39;00m Y \u001b[38;5;129;01min\u001b[39;00m Ys]\n\u001b[1;32m   1231\u001b[0m local_stop_mapping_at_ids \u001b[38;5;241m=\u001b[39m [\n\u001b[1;32m   1232\u001b[0m     \u001b[38;5;28mid\u001b[39m(X) \u001b[38;5;28;01mfor\u001b[39;00m X \u001b[38;5;129;01min\u001b[39;00m Xs \u001b[38;5;28;01mif\u001b[39;00m \u001b[38;5;28mid\u001b[39m(X) \u001b[38;5;129;01min\u001b[39;00m stop_mapping_at_ids\n\u001b[1;32m   1233\u001b[0m ]\n\u001b[1;32m   1235\u001b[0m _print(\u001b[38;5;124mf\u001b[39m\u001b[38;5;124m\"\u001b[39m\u001b[38;5;124m[NID: \u001b[39m\u001b[38;5;132;01m{\u001b[39;00mnid\u001b[38;5;132;01m}\u001b[39;00m\u001b[38;5;124m] Reverse layer-node \u001b[39m\u001b[38;5;132;01m{\u001b[39;00mlayer\u001b[38;5;132;01m}\u001b[39;00m\u001b[38;5;124m\"\u001b[39m)\n",
      "File \u001b[0;32m~/.conda/envs/thesis/lib/python3.9/site-packages/innvestigate/backend/graph.py:1230\u001b[0m, in \u001b[0;36m<listcomp>\u001b[0;34m(.0)\u001b[0m\n\u001b[1;32m   1223\u001b[0m \u001b[38;5;28;01mif\u001b[39;00m \u001b[38;5;129;01mnot\u001b[39;00m \u001b[38;5;28mall\u001b[39m(\u001b[38;5;28mid\u001b[39m(Y) \u001b[38;5;129;01min\u001b[39;00m reversed_tensors \u001b[38;5;28;01mfor\u001b[39;00m Y \u001b[38;5;129;01min\u001b[39;00m Ys):\n\u001b[1;32m   1224\u001b[0m     \u001b[38;5;66;03m# This node is not part of our computational graph.\u001b[39;00m\n\u001b[1;32m   1225\u001b[0m     \u001b[38;5;66;03m# The (node-)world is bigger than this model.\u001b[39;00m\n\u001b[1;32m   1226\u001b[0m     \u001b[38;5;66;03m# Potentially this node is also not part of the\u001b[39;00m\n\u001b[1;32m   1227\u001b[0m     \u001b[38;5;66;03m# reversed tensor set because it depends on a tensor\u001b[39;00m\n\u001b[1;32m   1228\u001b[0m     \u001b[38;5;66;03m# that is listed in stop_mapping_at_ids.\u001b[39;00m\n\u001b[1;32m   1229\u001b[0m     \u001b[38;5;28;01mcontinue\u001b[39;00m\n\u001b[0;32m-> 1230\u001b[0m reversed_Ys \u001b[38;5;241m=\u001b[39m [\u001b[43mget_reversed_tensor\u001b[49m\u001b[43m(\u001b[49m\u001b[43mY\u001b[49m\u001b[43m)\u001b[49m \u001b[38;5;28;01mfor\u001b[39;00m Y \u001b[38;5;129;01min\u001b[39;00m Ys]\n\u001b[1;32m   1231\u001b[0m local_stop_mapping_at_ids \u001b[38;5;241m=\u001b[39m [\n\u001b[1;32m   1232\u001b[0m     \u001b[38;5;28mid\u001b[39m(X) \u001b[38;5;28;01mfor\u001b[39;00m X \u001b[38;5;129;01min\u001b[39;00m Xs \u001b[38;5;28;01mif\u001b[39;00m \u001b[38;5;28mid\u001b[39m(X) \u001b[38;5;129;01min\u001b[39;00m stop_mapping_at_ids\n\u001b[1;32m   1233\u001b[0m ]\n\u001b[1;32m   1235\u001b[0m _print(\u001b[38;5;124mf\u001b[39m\u001b[38;5;124m\"\u001b[39m\u001b[38;5;124m[NID: \u001b[39m\u001b[38;5;132;01m{\u001b[39;00mnid\u001b[38;5;132;01m}\u001b[39;00m\u001b[38;5;124m] Reverse layer-node \u001b[39m\u001b[38;5;132;01m{\u001b[39;00mlayer\u001b[38;5;132;01m}\u001b[39;00m\u001b[38;5;124m\"\u001b[39m)\n",
      "File \u001b[0;32m~/.conda/envs/thesis/lib/python3.9/site-packages/innvestigate/backend/graph.py:1110\u001b[0m, in \u001b[0;36mreverse_model.<locals>.get_reversed_tensor\u001b[0;34m(tensor)\u001b[0m\n\u001b[1;32m   1108\u001b[0m     final_tensor \u001b[38;5;241m=\u001b[39m tmp[\u001b[38;5;124m\"\u001b[39m\u001b[38;5;124mtensors\u001b[39m\u001b[38;5;124m\"\u001b[39m][\u001b[38;5;241m0\u001b[39m]\n\u001b[1;32m   1109\u001b[0m \u001b[38;5;28;01melif\u001b[39;00m \u001b[38;5;28mlen\u001b[39m(tmp[\u001b[38;5;124m\"\u001b[39m\u001b[38;5;124mtensors\u001b[39m\u001b[38;5;124m\"\u001b[39m]) \u001b[38;5;241m>\u001b[39m \u001b[38;5;241m1\u001b[39m:\n\u001b[0;32m-> 1110\u001b[0m     final_tensor \u001b[38;5;241m=\u001b[39m \u001b[43mklayers\u001b[49m\u001b[38;5;241;43m.\u001b[39;49m\u001b[43mAdd\u001b[49m\u001b[43m(\u001b[49m\u001b[43m)\u001b[49m\u001b[43m(\u001b[49m\u001b[43mtmp\u001b[49m\u001b[43m[\u001b[49m\u001b[38;5;124;43m\"\u001b[39;49m\u001b[38;5;124;43mtensors\u001b[39;49m\u001b[38;5;124;43m\"\u001b[39;49m\u001b[43m]\u001b[49m\u001b[43m)\u001b[49m\n\u001b[1;32m   1111\u001b[0m \u001b[38;5;28;01melse\u001b[39;00m:\n\u001b[1;32m   1112\u001b[0m     \u001b[38;5;28;01mraise\u001b[39;00m \u001b[38;5;167;01mRuntimeError\u001b[39;00m(\n\u001b[1;32m   1113\u001b[0m         \u001b[38;5;124mf\u001b[39m\u001b[38;5;124m\"\u001b[39m\u001b[38;5;124mError during graph reversal: no tensors connected to \u001b[39m\u001b[38;5;132;01m{\u001b[39;00mtensor\u001b[38;5;132;01m}\u001b[39;00m\u001b[38;5;124m.\u001b[39m\u001b[38;5;124m\"\u001b[39m\n\u001b[1;32m   1114\u001b[0m     )\n",
      "File \u001b[0;32m~/.conda/envs/thesis/lib/python3.9/site-packages/keras/engine/base_layer_v1.py:798\u001b[0m, in \u001b[0;36mLayer.__call__\u001b[0;34m(self, *args, **kwargs)\u001b[0m\n\u001b[1;32m    794\u001b[0m \u001b[38;5;66;03m# Only create Keras history if at least one tensor originates from a\u001b[39;00m\n\u001b[1;32m    795\u001b[0m \u001b[38;5;66;03m# `keras.Input`. Otherwise this Layer may be being used outside the\u001b[39;00m\n\u001b[1;32m    796\u001b[0m \u001b[38;5;66;03m# Keras framework.\u001b[39;00m\n\u001b[1;32m    797\u001b[0m \u001b[38;5;28;01mif\u001b[39;00m build_graph \u001b[38;5;129;01mand\u001b[39;00m base_layer_utils\u001b[38;5;241m.\u001b[39mneeds_keras_history(inputs):\n\u001b[0;32m--> 798\u001b[0m     \u001b[43mbase_layer_utils\u001b[49m\u001b[38;5;241;43m.\u001b[39;49m\u001b[43mcreate_keras_history\u001b[49m\u001b[43m(\u001b[49m\u001b[43minputs\u001b[49m\u001b[43m)\u001b[49m\n\u001b[1;32m    800\u001b[0m \u001b[38;5;28;01mwith\u001b[39;00m call_context\u001b[38;5;241m.\u001b[39menter(\u001b[38;5;28mself\u001b[39m, inputs, build_graph, training_value):\n\u001b[1;32m    801\u001b[0m     \u001b[38;5;66;03m# Check input assumptions set after layer building, e.g. input\u001b[39;00m\n\u001b[1;32m    802\u001b[0m     \u001b[38;5;66;03m# shape.\u001b[39;00m\n\u001b[1;32m    803\u001b[0m     \u001b[38;5;28;01mif\u001b[39;00m build_graph:\n\u001b[1;32m    804\u001b[0m         \u001b[38;5;66;03m# Symbolic execution on symbolic tensors. We will attempt to\u001b[39;00m\n\u001b[1;32m    805\u001b[0m         \u001b[38;5;66;03m# build the corresponding TF subgraph inside\u001b[39;00m\n\u001b[1;32m    806\u001b[0m         \u001b[38;5;66;03m# `backend.get_graph()`\u001b[39;00m\n",
      "File \u001b[0;32m~/.conda/envs/thesis/lib/python3.9/site-packages/keras/engine/base_layer_utils.py:207\u001b[0m, in \u001b[0;36mcreate_keras_history\u001b[0;34m(tensors)\u001b[0m\n\u001b[1;32m    188\u001b[0m \u001b[38;5;28;01mdef\u001b[39;00m \u001b[38;5;21mcreate_keras_history\u001b[39m(tensors):\n\u001b[1;32m    189\u001b[0m     \u001b[38;5;124;03m\"\"\"Wraps TensorFlow Operations for compatibility with the Functional API.\u001b[39;00m\n\u001b[1;32m    190\u001b[0m \n\u001b[1;32m    191\u001b[0m \u001b[38;5;124;03m    This method checks to see if a Tensor in `tensors` is missing Keras metadata\u001b[39;00m\n\u001b[0;32m   (...)\u001b[0m\n\u001b[1;32m    205\u001b[0m \u001b[38;5;124;03m        the raw Tensorflow operations.\u001b[39;00m\n\u001b[1;32m    206\u001b[0m \u001b[38;5;124;03m    \"\"\"\u001b[39;00m\n\u001b[0;32m--> 207\u001b[0m     _, created_layers \u001b[38;5;241m=\u001b[39m \u001b[43m_create_keras_history_helper\u001b[49m\u001b[43m(\u001b[49m\u001b[43mtensors\u001b[49m\u001b[43m,\u001b[49m\u001b[43m \u001b[49m\u001b[38;5;28;43mset\u001b[39;49m\u001b[43m(\u001b[49m\u001b[43m)\u001b[49m\u001b[43m,\u001b[49m\u001b[43m \u001b[49m\u001b[43m[\u001b[49m\u001b[43m]\u001b[49m\u001b[43m)\u001b[49m\n\u001b[1;32m    208\u001b[0m     \u001b[38;5;28;01mreturn\u001b[39;00m created_layers\n",
      "File \u001b[0;32m~/.conda/envs/thesis/lib/python3.9/site-packages/keras/engine/base_layer_utils.py:293\u001b[0m, in \u001b[0;36m_create_keras_history_helper\u001b[0;34m(tensors, processed_ops, created_layers)\u001b[0m\n\u001b[1;32m    291\u001b[0m                 constants[i] \u001b[38;5;241m=\u001b[39m backend\u001b[38;5;241m.\u001b[39mfunction([], op_input)([])\n\u001b[1;32m    292\u001b[0m layer_inputs \u001b[38;5;241m=\u001b[39m unnest_if_single_tensor(layer_inputs)\n\u001b[0;32m--> 293\u001b[0m processed_ops, created_layers \u001b[38;5;241m=\u001b[39m \u001b[43m_create_keras_history_helper\u001b[49m\u001b[43m(\u001b[49m\n\u001b[1;32m    294\u001b[0m \u001b[43m    \u001b[49m\u001b[43mlayer_inputs\u001b[49m\u001b[43m,\u001b[49m\u001b[43m \u001b[49m\u001b[43mprocessed_ops\u001b[49m\u001b[43m,\u001b[49m\u001b[43m \u001b[49m\u001b[43mcreated_layers\u001b[49m\n\u001b[1;32m    295\u001b[0m \u001b[43m\u001b[49m\u001b[43m)\u001b[49m\n\u001b[1;32m    296\u001b[0m name \u001b[38;5;241m=\u001b[39m op\u001b[38;5;241m.\u001b[39mname\n\u001b[1;32m    297\u001b[0m node_def \u001b[38;5;241m=\u001b[39m op\u001b[38;5;241m.\u001b[39mnode_def\u001b[38;5;241m.\u001b[39mSerializeToString()\n",
      "File \u001b[0;32m~/.conda/envs/thesis/lib/python3.9/site-packages/keras/engine/base_layer_utils.py:293\u001b[0m, in \u001b[0;36m_create_keras_history_helper\u001b[0;34m(tensors, processed_ops, created_layers)\u001b[0m\n\u001b[1;32m    291\u001b[0m                 constants[i] \u001b[38;5;241m=\u001b[39m backend\u001b[38;5;241m.\u001b[39mfunction([], op_input)([])\n\u001b[1;32m    292\u001b[0m layer_inputs \u001b[38;5;241m=\u001b[39m unnest_if_single_tensor(layer_inputs)\n\u001b[0;32m--> 293\u001b[0m processed_ops, created_layers \u001b[38;5;241m=\u001b[39m \u001b[43m_create_keras_history_helper\u001b[49m\u001b[43m(\u001b[49m\n\u001b[1;32m    294\u001b[0m \u001b[43m    \u001b[49m\u001b[43mlayer_inputs\u001b[49m\u001b[43m,\u001b[49m\u001b[43m \u001b[49m\u001b[43mprocessed_ops\u001b[49m\u001b[43m,\u001b[49m\u001b[43m \u001b[49m\u001b[43mcreated_layers\u001b[49m\n\u001b[1;32m    295\u001b[0m \u001b[43m\u001b[49m\u001b[43m)\u001b[49m\n\u001b[1;32m    296\u001b[0m name \u001b[38;5;241m=\u001b[39m op\u001b[38;5;241m.\u001b[39mname\n\u001b[1;32m    297\u001b[0m node_def \u001b[38;5;241m=\u001b[39m op\u001b[38;5;241m.\u001b[39mnode_def\u001b[38;5;241m.\u001b[39mSerializeToString()\n",
      "    \u001b[0;31m[... skipping similar frames: _create_keras_history_helper at line 293 (12 times)]\u001b[0m\n",
      "File \u001b[0;32m~/.conda/envs/thesis/lib/python3.9/site-packages/keras/engine/base_layer_utils.py:293\u001b[0m, in \u001b[0;36m_create_keras_history_helper\u001b[0;34m(tensors, processed_ops, created_layers)\u001b[0m\n\u001b[1;32m    291\u001b[0m                 constants[i] \u001b[38;5;241m=\u001b[39m backend\u001b[38;5;241m.\u001b[39mfunction([], op_input)([])\n\u001b[1;32m    292\u001b[0m layer_inputs \u001b[38;5;241m=\u001b[39m unnest_if_single_tensor(layer_inputs)\n\u001b[0;32m--> 293\u001b[0m processed_ops, created_layers \u001b[38;5;241m=\u001b[39m \u001b[43m_create_keras_history_helper\u001b[49m\u001b[43m(\u001b[49m\n\u001b[1;32m    294\u001b[0m \u001b[43m    \u001b[49m\u001b[43mlayer_inputs\u001b[49m\u001b[43m,\u001b[49m\u001b[43m \u001b[49m\u001b[43mprocessed_ops\u001b[49m\u001b[43m,\u001b[49m\u001b[43m \u001b[49m\u001b[43mcreated_layers\u001b[49m\n\u001b[1;32m    295\u001b[0m \u001b[43m\u001b[49m\u001b[43m)\u001b[49m\n\u001b[1;32m    296\u001b[0m name \u001b[38;5;241m=\u001b[39m op\u001b[38;5;241m.\u001b[39mname\n\u001b[1;32m    297\u001b[0m node_def \u001b[38;5;241m=\u001b[39m op\u001b[38;5;241m.\u001b[39mnode_def\u001b[38;5;241m.\u001b[39mSerializeToString()\n",
      "File \u001b[0;32m~/.conda/envs/thesis/lib/python3.9/site-packages/keras/engine/base_layer_utils.py:291\u001b[0m, in \u001b[0;36m_create_keras_history_helper\u001b[0;34m(tensors, processed_ops, created_layers)\u001b[0m\n\u001b[1;32m    289\u001b[0m         \u001b[38;5;28;01melse\u001b[39;00m:\n\u001b[1;32m    290\u001b[0m             \u001b[38;5;28;01mwith\u001b[39;00m tf\u001b[38;5;241m.\u001b[39minit_scope():\n\u001b[0;32m--> 291\u001b[0m                 constants[i] \u001b[38;5;241m=\u001b[39m \u001b[43mbackend\u001b[49m\u001b[38;5;241;43m.\u001b[39;49m\u001b[43mfunction\u001b[49m\u001b[43m(\u001b[49m\u001b[43m[\u001b[49m\u001b[43m]\u001b[49m\u001b[43m,\u001b[49m\u001b[43m \u001b[49m\u001b[43mop_input\u001b[49m\u001b[43m)\u001b[49m\u001b[43m(\u001b[49m\u001b[43m[\u001b[49m\u001b[43m]\u001b[49m\u001b[43m)\u001b[49m\n\u001b[1;32m    292\u001b[0m layer_inputs \u001b[38;5;241m=\u001b[39m unnest_if_single_tensor(layer_inputs)\n\u001b[1;32m    293\u001b[0m processed_ops, created_layers \u001b[38;5;241m=\u001b[39m _create_keras_history_helper(\n\u001b[1;32m    294\u001b[0m     layer_inputs, processed_ops, created_layers\n\u001b[1;32m    295\u001b[0m )\n",
      "File \u001b[0;32m~/.conda/envs/thesis/lib/python3.9/site-packages/keras/backend.py:4577\u001b[0m, in \u001b[0;36mGraphExecutionFunction.__call__\u001b[0;34m(self, inputs)\u001b[0m\n\u001b[1;32m   4567\u001b[0m \u001b[38;5;28;01mif\u001b[39;00m (\n\u001b[1;32m   4568\u001b[0m     \u001b[38;5;28mself\u001b[39m\u001b[38;5;241m.\u001b[39m_callable_fn \u001b[38;5;129;01mis\u001b[39;00m \u001b[38;5;28;01mNone\u001b[39;00m\n\u001b[1;32m   4569\u001b[0m     \u001b[38;5;129;01mor\u001b[39;00m feed_arrays \u001b[38;5;241m!=\u001b[39m \u001b[38;5;28mself\u001b[39m\u001b[38;5;241m.\u001b[39m_feed_arrays\n\u001b[0;32m   (...)\u001b[0m\n\u001b[1;32m   4573\u001b[0m     \u001b[38;5;129;01mor\u001b[39;00m session \u001b[38;5;241m!=\u001b[39m \u001b[38;5;28mself\u001b[39m\u001b[38;5;241m.\u001b[39m_session\n\u001b[1;32m   4574\u001b[0m ):\n\u001b[1;32m   4575\u001b[0m     \u001b[38;5;28mself\u001b[39m\u001b[38;5;241m.\u001b[39m_make_callable(feed_arrays, feed_symbols, symbol_vals, session)\n\u001b[0;32m-> 4577\u001b[0m fetched \u001b[38;5;241m=\u001b[39m \u001b[38;5;28;43mself\u001b[39;49m\u001b[38;5;241;43m.\u001b[39;49m\u001b[43m_callable_fn\u001b[49m\u001b[43m(\u001b[49m\u001b[38;5;241;43m*\u001b[39;49m\u001b[43marray_vals\u001b[49m\u001b[43m,\u001b[49m\u001b[43m \u001b[49m\u001b[43mrun_metadata\u001b[49m\u001b[38;5;241;43m=\u001b[39;49m\u001b[38;5;28;43mself\u001b[39;49m\u001b[38;5;241;43m.\u001b[39;49m\u001b[43mrun_metadata\u001b[49m\u001b[43m)\u001b[49m\n\u001b[1;32m   4578\u001b[0m \u001b[38;5;28mself\u001b[39m\u001b[38;5;241m.\u001b[39m_call_fetch_callbacks(fetched[\u001b[38;5;241m-\u001b[39m\u001b[38;5;28mlen\u001b[39m(\u001b[38;5;28mself\u001b[39m\u001b[38;5;241m.\u001b[39m_fetches) :])\n\u001b[1;32m   4579\u001b[0m output_structure \u001b[38;5;241m=\u001b[39m tf\u001b[38;5;241m.\u001b[39mnest\u001b[38;5;241m.\u001b[39mpack_sequence_as(\n\u001b[1;32m   4580\u001b[0m     \u001b[38;5;28mself\u001b[39m\u001b[38;5;241m.\u001b[39m_outputs_structure,\n\u001b[1;32m   4581\u001b[0m     fetched[: \u001b[38;5;28mlen\u001b[39m(\u001b[38;5;28mself\u001b[39m\u001b[38;5;241m.\u001b[39moutputs)],\n\u001b[1;32m   4582\u001b[0m     expand_composites\u001b[38;5;241m=\u001b[39m\u001b[38;5;28;01mTrue\u001b[39;00m,\n\u001b[1;32m   4583\u001b[0m )\n",
      "File \u001b[0;32m~/.conda/envs/thesis/lib/python3.9/site-packages/tensorflow/python/client/session.py:1481\u001b[0m, in \u001b[0;36mBaseSession._Callable.__call__\u001b[0;34m(self, *args, **kwargs)\u001b[0m\n\u001b[1;32m   1479\u001b[0m \u001b[38;5;28;01mtry\u001b[39;00m:\n\u001b[1;32m   1480\u001b[0m   run_metadata_ptr \u001b[38;5;241m=\u001b[39m tf_session\u001b[38;5;241m.\u001b[39mTF_NewBuffer() \u001b[38;5;28;01mif\u001b[39;00m run_metadata \u001b[38;5;28;01melse\u001b[39;00m \u001b[38;5;28;01mNone\u001b[39;00m\n\u001b[0;32m-> 1481\u001b[0m   ret \u001b[38;5;241m=\u001b[39m \u001b[43mtf_session\u001b[49m\u001b[38;5;241;43m.\u001b[39;49m\u001b[43mTF_SessionRunCallable\u001b[49m\u001b[43m(\u001b[49m\u001b[38;5;28;43mself\u001b[39;49m\u001b[38;5;241;43m.\u001b[39;49m\u001b[43m_session\u001b[49m\u001b[38;5;241;43m.\u001b[39;49m\u001b[43m_session\u001b[49m\u001b[43m,\u001b[49m\n\u001b[1;32m   1482\u001b[0m \u001b[43m                                         \u001b[49m\u001b[38;5;28;43mself\u001b[39;49m\u001b[38;5;241;43m.\u001b[39;49m\u001b[43m_handle\u001b[49m\u001b[43m,\u001b[49m\u001b[43m \u001b[49m\u001b[43margs\u001b[49m\u001b[43m,\u001b[49m\n\u001b[1;32m   1483\u001b[0m \u001b[43m                                         \u001b[49m\u001b[43mrun_metadata_ptr\u001b[49m\u001b[43m)\u001b[49m\n\u001b[1;32m   1484\u001b[0m   \u001b[38;5;28;01mif\u001b[39;00m run_metadata:\n\u001b[1;32m   1485\u001b[0m     proto_data \u001b[38;5;241m=\u001b[39m tf_session\u001b[38;5;241m.\u001b[39mTF_GetBuffer(run_metadata_ptr)\n",
      "\u001b[0;31mInvalidArgumentError\u001b[0m: You must feed a value for placeholder tensor 'signal' with dtype float and shape [?,4096,12]\n\t [[{{node signal}}]]"
     ]
    }
   ],
   "source": [
    "analysis = gradient_analyzer.analyze(X[0])"
   ]
  },
  {
   "cell_type": "code",
   "execution_count": 13,
   "id": "4d73275c-516f-46e8-b0ef-6f3a6a0a0b39",
   "metadata": {},
   "outputs": [
    {
     "data": {
      "text/plain": [
       "'2.0.0'"
      ]
     },
     "execution_count": 13,
     "metadata": {},
     "output_type": "execute_result"
    }
   ],
   "source": [
    "innvestigate.__version__"
   ]
  }
 ],
 "metadata": {
  "kernelspec": {
   "display_name": "Python 3 (ipykernel)",
   "language": "python",
   "name": "python3"
  },
  "language_info": {
   "codemirror_mode": {
    "name": "ipython",
    "version": 3
   },
   "file_extension": ".py",
   "mimetype": "text/x-python",
   "name": "python",
   "nbconvert_exporter": "python",
   "pygments_lexer": "ipython3",
   "version": "3.9.15"
  }
 },
 "nbformat": 4,
 "nbformat_minor": 5
}
